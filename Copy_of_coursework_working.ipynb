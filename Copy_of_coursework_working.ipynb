{
  "nbformat": 4,
  "nbformat_minor": 0,
  "metadata": {
    "kernelspec": {
      "name": "python3",
      "display_name": "Python 3"
    },
    "language_info": {
      "codemirror_mode": {
        "name": "ipython",
        "version": 3
      },
      "file_extension": ".py",
      "mimetype": "text/x-python",
      "name": "python",
      "nbconvert_exporter": "python",
      "pygments_lexer": "ipython3",
      "version": "3.6.6"
    },
    "colab": {
      "name": "Copy of coursework_working.ipynb",
      "provenance": [],
      "collapsed_sections": [],
      "machine_shape": "hm",
      "include_colab_link": true
    },
    "accelerator": "GPU"
  },
  "cells": [
    {
      "cell_type": "markdown",
      "metadata": {
        "id": "view-in-github",
        "colab_type": "text"
      },
      "source": [
        "<a href=\"https://colab.research.google.com/github/Thrilok28021996/Course_work/blob/master/Copy_of_coursework_working.ipynb\" target=\"_parent\"><img src=\"https://colab.research.google.com/assets/colab-badge.svg\" alt=\"Open In Colab\"/></a>"
      ]
    },
    {
      "cell_type": "code",
      "metadata": {
        "_cell_guid": "b1076dfc-b9ad-4769-8c92-a6c4dae69d19",
        "_uuid": "8f2839f25d086af736a60e9eeb907d3b93b6e0e5",
        "id": "RsakrWvnHmo3",
        "colab_type": "code",
        "colab": {}
      },
      "source": [
        "import numpy as np \n",
        "import pandas as pd\n",
        "import os"
      ],
      "execution_count": 0,
      "outputs": []
    },
    {
      "cell_type": "code",
      "metadata": {
        "id": "-1Xej_Q4H1K1",
        "colab_type": "code",
        "colab": {}
      },
      "source": [
        "# This code has been taken from this link https://towardsdatascience.com/3-ways-to-load-csv-files-into-colab-7c14fcbdcb92\n",
        "# For LOADING THE DATASET FROM THE GOOGLE DRIVE\n",
        "!pip install -U -q PyDrive\n",
        "from pydrive.auth import GoogleAuth\n",
        "from pydrive.drive import GoogleDrive\n",
        "from google.colab import auth\n",
        "from oauth2client.client import GoogleCredentials\n",
        "# Authenticate and create the PyDrive client.\n",
        "auth.authenticate_user()\n",
        "gauth = GoogleAuth()\n",
        "gauth.credentials = GoogleCredentials.get_application_default()\n",
        "drive = GoogleDrive(gauth)"
      ],
      "execution_count": 0,
      "outputs": []
    },
    {
      "cell_type": "code",
      "metadata": {
        "id": "DYL43vvYH9_r",
        "colab_type": "code",
        "outputId": "3229b01b-7d16-4b32-b285-ef79f0cc797e",
        "colab": {
          "base_uri": "https://localhost:8080/",
          "height": 34
        }
      },
      "source": [
        "link ='https://drive.google.com/open?id=1lvMoUF1YzgIEvLW13_wYy_9JR9dTmDuu'\n",
        "\n",
        "fluff, id = link.split('=')\n",
        "print (id) # Verify that you have everything after '='"
      ],
      "execution_count": 0,
      "outputs": [
        {
          "output_type": "stream",
          "text": [
            "1lvMoUF1YzgIEvLW13_wYy_9JR9dTmDuu\n"
          ],
          "name": "stdout"
        }
      ]
    },
    {
      "cell_type": "code",
      "metadata": {
        "id": "HzDlJOjNH-NL",
        "colab_type": "code",
        "outputId": "6b70f567-2201-4eb5-fa32-df7993334938",
        "colab": {
          "base_uri": "https://localhost:8080/",
          "height": 34
        }
      },
      "source": [
        "import pandas as pd\n",
        "downloaded = drive.CreateFile({'id':id}) \n",
        "downloaded.GetContentFile('preprocess_data.csv')  \n",
        "data = pd.read_csv('preprocess_data.csv',encoding='utf-8')\n",
        "# Dataset is now stored in a Pandas Dataframe\n",
        "print(\"Dataset is now Loaded\")"
      ],
      "execution_count": 0,
      "outputs": [
        {
          "output_type": "stream",
          "text": [
            "Dataset is now Loaded\n"
          ],
          "name": "stdout"
        }
      ]
    },
    {
      "cell_type": "code",
      "metadata": {
        "id": "qSdit6-V0qB8",
        "colab_type": "code",
        "outputId": "ea679265-5995-43fa-c9a6-8aad89faa452",
        "colab": {
          "base_uri": "https://localhost:8080/",
          "height": 206
        }
      },
      "source": [
        "data.head()"
      ],
      "execution_count": 0,
      "outputs": [
        {
          "output_type": "execute_result",
          "data": {
            "text/html": [
              "<div>\n",
              "<style scoped>\n",
              "    .dataframe tbody tr th:only-of-type {\n",
              "        vertical-align: middle;\n",
              "    }\n",
              "\n",
              "    .dataframe tbody tr th {\n",
              "        vertical-align: top;\n",
              "    }\n",
              "\n",
              "    .dataframe thead th {\n",
              "        text-align: right;\n",
              "    }\n",
              "</style>\n",
              "<table border=\"1\" class=\"dataframe\">\n",
              "  <thead>\n",
              "    <tr style=\"text-align: right;\">\n",
              "      <th></th>\n",
              "      <th>headline</th>\n",
              "      <th>text</th>\n",
              "    </tr>\n",
              "  </thead>\n",
              "  <tbody>\n",
              "    <tr>\n",
              "      <th>0</th>\n",
              "      <td>keep related supplies area make effort clean d...</td>\n",
              "      <td>photographer keep necessary lens cords batteri...</td>\n",
              "    </tr>\n",
              "    <tr>\n",
              "      <th>1</th>\n",
              "      <td>create sketch neopoprealist manner future mura...</td>\n",
              "      <td>see image drawing develops step step however i...</td>\n",
              "    </tr>\n",
              "    <tr>\n",
              "      <th>2</th>\n",
              "      <td>get bachelor degree enroll studio based progra...</td>\n",
              "      <td>possible become vfx artist without college deg...</td>\n",
              "    </tr>\n",
              "    <tr>\n",
              "      <th>3</th>\n",
              "      <td>start experience interest art understand diffe...</td>\n",
              "      <td>best art investors research pieces art buy som...</td>\n",
              "    </tr>\n",
              "    <tr>\n",
              "      <th>4</th>\n",
              "      <td>keep reference materials sketches articles pho...</td>\n",
              "      <td>start planning project work shall likely gathe...</td>\n",
              "    </tr>\n",
              "  </tbody>\n",
              "</table>\n",
              "</div>"
            ],
            "text/plain": [
              "                                            headline                                               text\n",
              "0  keep related supplies area make effort clean d...  photographer keep necessary lens cords batteri...\n",
              "1  create sketch neopoprealist manner future mura...  see image drawing develops step step however i...\n",
              "2  get bachelor degree enroll studio based progra...  possible become vfx artist without college deg...\n",
              "3  start experience interest art understand diffe...  best art investors research pieces art buy som...\n",
              "4  keep reference materials sketches articles pho...  start planning project work shall likely gathe..."
            ]
          },
          "metadata": {
            "tags": []
          },
          "execution_count": 5
        }
      ]
    },
    {
      "cell_type": "markdown",
      "metadata": {
        "id": "wEsAWFK5Hmqy",
        "colab_type": "text"
      },
      "source": [
        "Torch Req"
      ]
    },
    {
      "cell_type": "code",
      "metadata": {
        "id": "IZMhgsE804NM",
        "colab_type": "code",
        "colab": {}
      },
      "source": [
        "x = data['text'].astype(str)\n",
        "y = data['headline'].astype(str)"
      ],
      "execution_count": 0,
      "outputs": []
    },
    {
      "cell_type": "code",
      "metadata": {
        "id": "2v2JRL29052Q",
        "colab_type": "code",
        "colab": {}
      },
      "source": [
        "from __future__ import unicode_literals, print_function, division\n",
        "from io import open\n",
        "import unicodedata\n",
        "import string\n",
        "import re\n",
        "import random\n",
        "\n",
        "import torch\n",
        "import torch.nn as nn\n",
        "from torch import optim\n",
        "import torch.nn.functional as F\n",
        "\n",
        "device = torch.device(\"cuda\" if torch.cuda.is_available() else \"cpu\")"
      ],
      "execution_count": 0,
      "outputs": []
    },
    {
      "cell_type": "code",
      "metadata": {
        "id": "Z8AVu9A008KZ",
        "colab_type": "code",
        "colab": {}
      },
      "source": [
        "SOS_token = 0\n",
        "EOS_token = 1\n",
        "\n",
        "\n",
        "class Lang:\n",
        "    def __init__(self, name):\n",
        "        self.name = name\n",
        "        self.word2index = {}\n",
        "        self.word2count = {}\n",
        "        self.index2word = {0: \"SOS\", 1: \"EOS\"}\n",
        "        self.n_words = 2  # Count SOS and EOS\n",
        "\n",
        "    def addSentence(self, sentence):\n",
        "        for word in sentence.split(' '):\n",
        "            self.addWord(word)\n",
        "\n",
        "    def addWord(self, word):\n",
        "        if word not in self.word2index:\n",
        "            self.word2index[word] = self.n_words\n",
        "            self.word2count[word] = 1\n",
        "            self.index2word[self.n_words] = word\n",
        "            self.n_words += 1\n",
        "        else:\n",
        "            self.word2count[word] += 1"
      ],
      "execution_count": 0,
      "outputs": []
    },
    {
      "cell_type": "code",
      "metadata": {
        "id": "fW9BnXh00-bI",
        "colab_type": "code",
        "colab": {}
      },
      "source": [
        "def readLangs(text, summary, reverse=False):\n",
        "    print(\"Reading lines...\")\n",
        "    pairs =[]\n",
        "    missing_lines = 0\n",
        "    # Split every line into pairs and normalize\n",
        "    for i in range(len(text)):\n",
        "      try:\n",
        "        pairs.append([text[i],summary[i]])\n",
        "      except:\n",
        "        missing_lines=missing_lines+1\n",
        "    # Reverse pairs, make Lang instances\n",
        "    if reverse:\n",
        "        pairs = [list(reversed(p)) for p in pairs]\n",
        "        input_lang = Lang(summary)\n",
        "        output_lang = Lang(text)\n",
        "    else:\n",
        "        input_lang = Lang(text)\n",
        "        output_lang = Lang(summary)\n",
        "    print(\"total missing indices\"+str(missing_lines))\n",
        "    return input_lang, output_lang, pairs"
      ],
      "execution_count": 0,
      "outputs": []
    },
    {
      "cell_type": "code",
      "metadata": {
        "id": "eEZOtWQ81ABo",
        "colab_type": "code",
        "colab": {}
      },
      "source": [
        "def prepareData(lang1, lang2, reverse=False):\n",
        "    input_lang, output_lang, pairs = readLangs(lang1, lang2, reverse)\n",
        "    print(\"Read %s sentence pairs\" % len(pairs))\n",
        "    print(\"Counting words...\")\n",
        "    for pair in pairs:\n",
        "        input_lang.addSentence(pair[0])\n",
        "        output_lang.addSentence(pair[1])\n",
        "    print(\"Counted words:\")\n",
        "    print(input_lang.name, input_lang.n_words)\n",
        "    print(output_lang.name, output_lang.n_words)\n",
        "    return input_lang, output_lang, pairs"
      ],
      "execution_count": 0,
      "outputs": []
    },
    {
      "cell_type": "code",
      "metadata": {
        "id": "VIjVSA0V1Bk9",
        "colab_type": "code",
        "outputId": "986f2b87-207c-4cfa-b55d-637bf5becdd1",
        "colab": {
          "base_uri": "https://localhost:8080/",
          "height": 558
        }
      },
      "source": [
        "input_lang, output_lang, pairs = prepareData( x, y , False)\n",
        "print(random.choice(pairs))"
      ],
      "execution_count": 0,
      "outputs": [
        {
          "output_type": "stream",
          "text": [
            "Reading lines...\n",
            "total missing indices0\n",
            "Read 180127 sentence pairs\n",
            "Counting words...\n",
            "Counted words:\n",
            "0         photographer keep necessary lens cords batteri...\n",
            "1         see image drawing develops step step however i...\n",
            "2         possible become vfx artist without college deg...\n",
            "3         best art investors research pieces art buy som...\n",
            "4         start planning project work shall likely gathe...\n",
            "                                ...                        \n",
            "180122    name like might fiddle spelling see alternate ...\n",
            "180123    name might sound great say loud bedroom find s...\n",
            "180124    relief printing oldest traditional printing te...\n",
            "180125    intaglio italian incis ing correspondingly rev...\n",
            "180126    lithography big term often used refer many dif...\n",
            "Name: text, Length: 180127, dtype: object 152911\n",
            "0         keep related supplies area make effort clean d...\n",
            "1         create sketch neopoprealist manner future mura...\n",
            "2         get bachelor degree enroll studio based progra...\n",
            "3         start experience interest art understand diffe...\n",
            "4         keep reference materials sketches articles pho...\n",
            "                                ...                        \n",
            "180122    consider changing spelling name avoid symbols ...\n",
            "180123    try name legally change name register stage na...\n",
            "180124    understand process relief printing examine rim...\n",
            "180125    understand process intaglio printing look plat...\n",
            "180126    understand different varieties lithography mag...\n",
            "Name: headline, Length: 180127, dtype: object 64078\n",
            "['budget carriers spirit ryanair well budget divisions legacy carriers basic economy may allow small personal items laptop bag backpack airlines may include carry ons checked bags base fare others still may allow certain number checked bags look online call airline see specific baggage included ticket considering purchasing looking best price ticket flight consider much baggage actually bring plan bringing carry example may want pay ticket checked bags rolled cost likewise know need check bags may want rule options charge per bag weight checked luggage addition knowing airline charges baggage know limits regulations place baggage different airlines different regulations regarding large heavy carry checked items read specific airline regulations carefully may useful invest small hanging luggage scale purchased easily online help avoid overweight bag fees cases budget ticket plus baggage fees may cheaper purchasing ticket baggage included cases baggage included airline might best option shop around compare prices including baggage fees get best deal', 'check airline policies consider much baggage need look limits compare prices across carriers']\n"
          ],
          "name": "stdout"
        }
      ]
    },
    {
      "cell_type": "code",
      "metadata": {
        "id": "gFBro9F21p-K",
        "colab_type": "code",
        "colab": {}
      },
      "source": [
        "MAX_LENGTH = 1000"
      ],
      "execution_count": 0,
      "outputs": []
    },
    {
      "cell_type": "code",
      "metadata": {
        "id": "CRQhoIHA1DHQ",
        "colab_type": "code",
        "colab": {}
      },
      "source": [
        "class EncoderRNN(nn.Module):\n",
        "    def __init__(self, input_size, hidden_size):\n",
        "        super(EncoderRNN, self).__init__()\n",
        "        self.hidden_size = hidden_size\n",
        "\n",
        "        self.embedding = nn.Embedding(input_size, hidden_size)\n",
        "        self.gru = nn.GRU(hidden_size, hidden_size)\n",
        "\n",
        "    def forward(self, input, hidden):\n",
        "        embedded = self.embedding(input).view(1, 1, -1)\n",
        "        output = embedded\n",
        "        output, hidden = self.gru(output, hidden)\n",
        "        return output, hidden\n",
        "\n",
        "    def initHidden(self):\n",
        "        return torch.zeros(1, 1, self.hidden_size, device=device)"
      ],
      "execution_count": 0,
      "outputs": []
    },
    {
      "cell_type": "code",
      "metadata": {
        "id": "Iu7j4_MZ1bw2",
        "colab_type": "code",
        "colab": {}
      },
      "source": [
        "class DecoderRNN(nn.Module):\n",
        "    def __init__(self, hidden_size, output_size):\n",
        "        super(DecoderRNN, self).__init__()\n",
        "        self.hidden_size = hidden_size\n",
        "\n",
        "        self.embedding = nn.Embedding(output_size, hidden_size)\n",
        "        self.gru = nn.GRU(hidden_size, hidden_size)\n",
        "        self.out = nn.Linear(hidden_size, output_size)\n",
        "        self.softmax = nn.LogSoftmax(dim=1)\n",
        "\n",
        "    def forward(self, input, hidden):\n",
        "        output = self.embedding(input).view(1, 1, -1)\n",
        "        output = F.relu(output)\n",
        "        output, hidden = self.gru(output, hidden)\n",
        "        output = self.softmax(self.out(output[0]))\n",
        "        return output, hidden\n",
        "\n",
        "    def initHidden(self):\n",
        "        return torch.zeros(1, 1, self.hidden_size, device=device)"
      ],
      "execution_count": 0,
      "outputs": []
    },
    {
      "cell_type": "code",
      "metadata": {
        "id": "91_T7mef1eoK",
        "colab_type": "code",
        "colab": {}
      },
      "source": [
        "class AttnDecoderRNN(nn.Module):\n",
        "    def __init__(self, hidden_size, output_size, dropout, max_length=MAX_LENGTH):\n",
        "        super(AttnDecoderRNN, self).__init__()\n",
        "        self.hidden_size = hidden_size\n",
        "        self.output_size = output_size\n",
        "        self.dropout = dropout\n",
        "        self.max_length = max_length\n",
        "\n",
        "        self.embedding = nn.Embedding(self.output_size, self.hidden_size)\n",
        "        self.attn = nn.Linear(self.hidden_size * 2, self.max_length)\n",
        "        self.attn_combine = nn.Linear(self.hidden_size * 2, self.hidden_size)\n",
        "        self.dropout = nn.Dropout(self.dropout)\n",
        "        self.gru = nn.GRU(self.hidden_size, self.hidden_size)\n",
        "        self.out = nn.Linear(self.hidden_size, self.output_size)\n",
        "\n",
        "    def forward(self, input, hidden, encoder_outputs):\n",
        "        embedded = self.embedding(input).view(1, 1, -1)\n",
        "        embedded = self.dropout(embedded)\n",
        "\n",
        "        attn_weights = F.softmax(\n",
        "            self.attn(torch.cat((embedded[0], hidden[0]), 1)), dim=1)\n",
        "        attn_applied = torch.bmm(attn_weights.unsqueeze(0),\n",
        "                                 encoder_outputs.unsqueeze(0))\n",
        "\n",
        "        output = torch.cat((embedded[0], attn_applied[0]), 1)\n",
        "        output = self.attn_combine(output).unsqueeze(0)\n",
        "\n",
        "        output = F.relu(output)\n",
        "        output, hidden = self.gru(output, hidden)\n",
        "\n",
        "        output = F.log_softmax(self.out(output[0]), dim=1)\n",
        "        return output, hidden, attn_weights\n",
        "\n",
        "    def initHidden(self):\n",
        "        return torch.zeros(1, 1, self.hidden_size, device=device)"
      ],
      "execution_count": 0,
      "outputs": []
    },
    {
      "cell_type": "code",
      "metadata": {
        "id": "42gunFLZ1wPy",
        "colab_type": "code",
        "colab": {}
      },
      "source": [
        "def indexesFromSentence(lang, sentence):\n",
        "    return [lang.word2index[word] for word in sentence.split(' ')]\n",
        "\n",
        "\n",
        "def tensorFromSentence(lang, sentence):\n",
        "    indexes = indexesFromSentence(lang, sentence)\n",
        "    indexes.append(EOS_token)\n",
        "    return torch.tensor(indexes, dtype=torch.long, device=device).view(-1, 1)\n",
        "\n",
        "\n",
        "def tensorsFromPair(pair):\n",
        "    input_tensor = tensorFromSentence(input_lang, pair[0])\n",
        "    target_tensor = tensorFromSentence(output_lang, pair[1])\n",
        "    return (input_tensor, target_tensor)"
      ],
      "execution_count": 0,
      "outputs": []
    },
    {
      "cell_type": "code",
      "metadata": {
        "id": "kB7Jet6J1ya2",
        "colab_type": "code",
        "colab": {}
      },
      "source": [
        "teacher_forcing_ratio = 0.5\n",
        "\n",
        "\n",
        "def train(input_tensor, target_tensor, encoder, decoder, encoder_optimizer, decoder_optimizer, criterion, max_length=MAX_LENGTH):\n",
        "    encoder_hidden = encoder.initHidden()\n",
        "\n",
        "    encoder_optimizer.zero_grad()\n",
        "    decoder_optimizer.zero_grad()\n",
        "\n",
        "    input_length = input_tensor.size(0)\n",
        "    target_length = target_tensor.size(0)\n",
        "\n",
        "    encoder_outputs = torch.zeros(max_length, encoder.hidden_size, device=device)\n",
        "\n",
        "    \n",
        "    loss = 0\n",
        "    \n",
        "\n",
        "    for ei in range(input_length):\n",
        "        encoder_output, encoder_hidden = encoder(\n",
        "            input_tensor[ei], encoder_hidden)\n",
        "             \n",
        "        if ei < max_length:\n",
        "          encoder_outputs[ei] = encoder_output[0, 0]\n",
        "\n",
        "      \n",
        "\n",
        "    decoder_input = torch.tensor([[SOS_token]], device=device)\n",
        "\n",
        "    decoder_hidden = encoder_hidden\n",
        "\n",
        "    use_teacher_forcing = True if random.random() < teacher_forcing_ratio else False\n",
        "\n",
        "    if use_teacher_forcing:\n",
        "        # Teacher forcing: Feed the target as the next input\n",
        "        for di in range(target_length):\n",
        "            decoder_output, decoder_hidden, decoder_attention = decoder(\n",
        "                decoder_input, decoder_hidden, encoder_outputs)\n",
        "            loss += criterion(decoder_output, target_tensor[di])\n",
        "            decoder_input = target_tensor[di]  # Teacher forcing\n",
        "\n",
        "    else:\n",
        "        # Without teacher forcing: use its own predictions as the next input\n",
        "        for di in range(target_length):\n",
        "            decoder_output, decoder_hidden, decoder_attention = decoder(\n",
        "                decoder_input, decoder_hidden, encoder_outputs)\n",
        "            topv, topi = decoder_output.topk(1)\n",
        "            decoder_input = topi.squeeze().detach()  # detach from history as input\n",
        "\n",
        "            loss += criterion(decoder_output, target_tensor[di])\n",
        "            if decoder_input.item() == EOS_token:\n",
        "                break\n",
        "\n",
        "    loss.backward()\n",
        "\n",
        "    encoder_optimizer.step()\n",
        "    decoder_optimizer.step()\n",
        "\n",
        "    return loss.item() / target_length"
      ],
      "execution_count": 0,
      "outputs": []
    },
    {
      "cell_type": "code",
      "metadata": {
        "id": "dY20w6FW13AH",
        "colab_type": "code",
        "colab": {}
      },
      "source": [
        "import time\n",
        "import math\n",
        "\n",
        "\n",
        "def asMinutes(s):\n",
        "    m = math.floor(s / 60)\n",
        "    s -= m * 60\n",
        "    return '%dm %ds' % (m, s)\n",
        "\n",
        "\n",
        "def timeSince(since, percent):\n",
        "    now = time.time()\n",
        "    s = now - since\n",
        "    es = s / (percent)\n",
        "    rs = es - s\n",
        "    return '%s (- %s)' % (asMinutes(s), asMinutes(rs))"
      ],
      "execution_count": 0,
      "outputs": []
    },
    {
      "cell_type": "code",
      "metadata": {
        "id": "PeQZSI-t18fi",
        "colab_type": "code",
        "colab": {}
      },
      "source": [
        "import matplotlib.pyplot as plt\n",
        "plt.switch_backend('agg')\n",
        "import matplotlib.ticker as ticker\n",
        "import numpy as np\n",
        "\n",
        "\n",
        "def showPlot(points):\n",
        "    plt.figure()\n",
        "    fig, ax = plt.subplots()\n",
        "    # this locator puts ticks at regular intervals\n",
        "    loc = ticker.MultipleLocator(base=0.2)\n",
        "    ax.yaxis.set_major_locator(loc)\n",
        "    plt.plot(points)"
      ],
      "execution_count": 0,
      "outputs": []
    },
    {
      "cell_type": "code",
      "metadata": {
        "id": "LXFDzY8Z15V9",
        "colab_type": "code",
        "colab": {}
      },
      "source": [
        "def trainIters(encoder, decoder, n_iters, print_every, plot_every, learning_rate):\n",
        "    start = time.time()\n",
        "    \n",
        "    print_loss = 0  # Reset every print_every\n",
        "    plot_loss = 0  # Reset every plot_every\n",
        "\n",
        "\n",
        "    encoder_optimizer = optim.Adam(encoder.parameters(), lr=learning_rate)\n",
        "    decoder_optimizer = optim.Adam(decoder.parameters(), lr=learning_rate)\n",
        "    training_pairs = [tensorsFromPair(random.choice(pairs))\n",
        "                      for i in range(n_iters)]\n",
        "    criterion = nn.NLLLoss()\n",
        "\n",
        "    for iter in range(1, n_iters + 1):\n",
        "        training_pair = training_pairs[iter - 1]\n",
        "        input_tensor = training_pair[0]\n",
        "        target_tensor = training_pair[1]\n",
        "\n",
        "        loss = train(input_tensor, target_tensor, encoder,\n",
        "                     decoder, encoder_optimizer, decoder_optimizer, criterion)\n",
        "        print_loss += loss\n",
        "        plot_loss += loss\n",
        "\n",
        "        if iter % print_every == 0:\n",
        "            print_loss_avg = print_loss / print_every\n",
        "            print_loss = 0\n",
        "            print('%s (%d %d%%) %.4f' % (timeSince(start, iter / n_iters),\n",
        "                                         iter, iter / n_iters * 100, print_loss_avg))\n",
        "\n",
        "        if iter % plot_every == 0:\n",
        "            plot_loss_avg = plot_loss / plot_every\n",
        "            plot_losses.append(plot_loss_avg)\n",
        "            plot_loss = 0"
      ],
      "execution_count": 0,
      "outputs": []
    },
    {
      "cell_type": "code",
      "metadata": {
        "id": "FK43dSMO1-ei",
        "colab_type": "code",
        "colab": {}
      },
      "source": [
        "def evaluate(encoder, decoder, sentence, max_length=MAX_LENGTH):\n",
        "    with torch.no_grad():\n",
        "        input_tensor = tensorFromSentence(input_lang, sentence)\n",
        "        input_length = input_tensor.size()[0]\n",
        "        encoder_hidden = encoder.initHidden()\n",
        "\n",
        "        encoder_outputs = torch.zeros(max_length, encoder.hidden_size, device=device)\n",
        "\n",
        "        for ei in range(input_length):\n",
        "            encoder_output, encoder_hidden = encoder(input_tensor[ei],\n",
        "                                                     encoder_hidden)\n",
        "            encoder_outputs[ei] += encoder_output[0, 0]\n",
        "\n",
        "        decoder_input = torch.tensor([[SOS_token]], device=device)  # SOS\n",
        "\n",
        "        decoder_hidden = encoder_hidden\n",
        "\n",
        "        decoded_words = []\n",
        "        decoder_attentions = torch.zeros(max_length, max_length)\n",
        "\n",
        "        for di in range(max_length):\n",
        "            decoder_output, decoder_hidden, decoder_attention = decoder(\n",
        "                decoder_input, decoder_hidden, encoder_outputs)\n",
        "            decoder_attentions[di] = decoder_attention.data\n",
        "            topv, topi = decoder_output.data.topk(1)\n",
        "            if topi.item() == EOS_token:\n",
        "                decoded_words.append('<EOS>')\n",
        "                break\n",
        "            else:\n",
        "                decoded_words.append(output_lang.index2word[topi.item()])\n",
        "\n",
        "            decoder_input = topi.squeeze().detach()\n",
        "\n",
        "        return decoded_words, decoder_attentions[:di + 1]"
      ],
      "execution_count": 0,
      "outputs": []
    },
    {
      "cell_type": "code",
      "metadata": {
        "id": "xKIZu2qd2BXl",
        "colab_type": "code",
        "colab": {}
      },
      "source": [
        "def evaluateRandomly(encoder, decoder, n=10):\n",
        "    for i in range(n):\n",
        "        pair = random.choice(pairs)\n",
        "        print('Article:', pair[0])\n",
        "        print('Reference summary:', pair[1])\n",
        "        output_words, attentions = evaluate(encoder, decoder, pair[0])\n",
        "        output_sentence = ' '.join(output_words)\n",
        "        print('Summary:', output_sentence)\n",
        "        print('')"
      ],
      "execution_count": 0,
      "outputs": []
    },
    {
      "cell_type": "code",
      "metadata": {
        "id": "cqdcC1TO2DTG",
        "colab_type": "code",
        "outputId": "aa8099f9-a39a-4af5-9acf-3cad768d51b3",
        "colab": {
          "base_uri": "https://localhost:8080/",
          "height": 34
        }
      },
      "source": [
        "hidden_size = 300\n",
        "learning_rate = 0.001      # Learning rates 0.0005, 0.001, 0.00146    https://medium.com/octavian-ai/which-optimizer-and-learning-rate-should-i-use-for-deep-learning-5acb418f9b2\n",
        "plot_losses = []\n",
        "plot_every = 500\n",
        "print_every =1000\n",
        "n_iters = 6000\n",
        "dropout = 0.5\n",
        "\n",
        "encoder = EncoderRNN(input_lang.n_words, hidden_size).to(device)\n",
        "decoder = AttnDecoderRNN(hidden_size, output_lang.n_words, dropout).to(device)\n",
        "trainIters(encoder, decoder, n_iters, print_every,plot_every,learning_rate)"
      ],
      "execution_count": 0,
      "outputs": [
        {
          "output_type": "stream",
          "text": [
            "8m 27s (- 42m 16s) (1000 16%) 6.0615\n"
          ],
          "name": "stdout"
        }
      ]
    },
    {
      "cell_type": "code",
      "metadata": {
        "id": "yPRvPRyS2O4L",
        "colab_type": "code",
        "outputId": "3be646f1-3ccb-4e55-c031-a55bd2b44745",
        "colab": {
          "base_uri": "https://localhost:8080/",
          "height": 202
        }
      },
      "source": [
        "# plotting the losses\n",
        "import matplotlib.pyplot as plt\n",
        "%matplotlib inline\n",
        "showPlot(plot_losses)"
      ],
      "execution_count": 0,
      "outputs": [
        {
          "output_type": "error",
          "ename": "NameError",
          "evalue": "ignored",
          "traceback": [
            "\u001b[0;31m---------------------------------------------------------------------------\u001b[0m",
            "\u001b[0;31mNameError\u001b[0m                                 Traceback (most recent call last)",
            "\u001b[0;32m<ipython-input-28-b4fda246bdc1>\u001b[0m in \u001b[0;36m<module>\u001b[0;34m()\u001b[0m\n\u001b[1;32m      1\u001b[0m \u001b[0;32mimport\u001b[0m \u001b[0mmatplotlib\u001b[0m\u001b[0;34m.\u001b[0m\u001b[0mpyplot\u001b[0m \u001b[0;32mas\u001b[0m \u001b[0mplt\u001b[0m\u001b[0;34m\u001b[0m\u001b[0;34m\u001b[0m\u001b[0m\n\u001b[1;32m      2\u001b[0m \u001b[0mget_ipython\u001b[0m\u001b[0;34m(\u001b[0m\u001b[0;34m)\u001b[0m\u001b[0;34m.\u001b[0m\u001b[0mmagic\u001b[0m\u001b[0;34m(\u001b[0m\u001b[0;34m'matplotlib inline'\u001b[0m\u001b[0;34m)\u001b[0m\u001b[0;34m\u001b[0m\u001b[0;34m\u001b[0m\u001b[0m\n\u001b[0;32m----> 3\u001b[0;31m \u001b[0mshowPlot\u001b[0m\u001b[0;34m(\u001b[0m\u001b[0mplot_losses\u001b[0m\u001b[0;34m)\u001b[0m\u001b[0;34m\u001b[0m\u001b[0;34m\u001b[0m\u001b[0m\n\u001b[0m",
            "\u001b[0;31mNameError\u001b[0m: name 'plot_losses' is not defined"
          ]
        }
      ]
    },
    {
      "cell_type": "code",
      "metadata": {
        "id": "5AqrOrALbIZM",
        "colab_type": "code",
        "colab": {}
      },
      "source": [
        "torch.save(encoder1.state_dict(), './enc.w')\n",
        "torch.save(attn_decoder1.state_dict(), './att.w')"
      ],
      "execution_count": 0,
      "outputs": []
    },
    {
      "cell_type": "code",
      "metadata": {
        "id": "YTPnl-_bAO6A",
        "colab_type": "code",
        "outputId": "a5839c87-427b-4197-b40d-e76ed16136b6",
        "colab": {
          "base_uri": "https://localhost:8080/",
          "height": 732
        }
      },
      "source": [
        "evaluateRandomly(encoder1, attn_decoder1, n=10)"
      ],
      "execution_count": 0,
      "outputs": [
        {
          "output_type": "stream",
          "text": [
            "Article: define fundamentals like age going mission parents significant children wealthy poor work practice trade character destiny establishing basic elements character backstory incredibly important get far detailed specific like backstory rich desire avoid basing character personality traits common pitfall experience much richer create traits objectively ask questions like character good evil complicated mix aggressive defensive brave kind character impulsive act common sense charming despicable trustworthy allow character flaws game interesting character realistic imperfect choices dictate game goes need define character motives order make appropriate realistic choices example imagine character run away home shunned father thief meets group distinguished adventurers tavern invited join must make decision shamed father character wants gain prestige respect return home one day unashamed motive would make sense character choose join group adventurers since could provide opportunities gain respect redeem events contribute development character realistic way example defeating string enemies would make sense character feel empowered make bolder choices take challenges tried beginning game think new knowledge experience skills might influence character choices moving forward\n",
            "Reference summary: develop background story character help bring character life define personality traits character know character motives game character faced one situation another situation require choice ensure character continually develops game progresses character gains knowledge experience going trials defeating enemies overcoming challenges completing quests\n",
            "Summary: go time go time <EOS>\n",
            "\n",
            "Article: tactics logistics necessary may need teach coaching beginners teach rules players cannot play well understand rules volleyball risk losing points mention games make sure team knows cannot gets points results penalties talk players supportively coaching children talk parents openly know going practice keeping communication positive rather competitive demonstrate best interests players mind provide model good sportsmanship especially important coaching kids socratic method coaching uses questions get players think critically may slower method yields better results ultimately players need make high level decisions court example carl think differently make serve stronger ok everyone think going focus drill including players decisions builds trust encourages think critically game example timeout ask team feedback opponents suggestions strategy example need keep pithy easily lose players attention talk much generally concentrate verbal feedback helping player focus important moment whether coaching kids adults professionals amateurs physical court needs safe inspect practice competition courts every practice match ground free sharp objects glass check court feet overhead clearance remove objects like portable basketball goals lighting fixtures tree limbs space court using net supported wires covered soft material players never grab net hang supports cause net overturn fall reduce risk collision players call ball reduce chance colliding another player knowledge first aid vital know treat common minor injuries like facial cuts bruises minor tendinitis strains sprains emergency contact plan serious injuries require medical professional planning time consuming important figure advance practice decide warm ups drills practice games going decide much time leave element writing plans gives something refer practice also serves reminder done going websites provide downloadable planners volleyball coaches templates might help get organized intense go heart rate gradually follow minute recovery period dynamic stretches done movement research suggests much effective static stretches reducing risk injury ideas straight leg march kick one leg straight front toes flexed upwards meanwhile reach opposite arm upturned toes lower leg opposite leg arm repeat times scorpion lying stomach arms outstretched feet flexed toes touching ground kick right foot upward toward left arm left foot toward right arm work slowly repeat times handwalks stand straight legs together bend putting palms hands flat ground walk hands front back almost extended keeping legs straight walk feet towards hands repeat times drills focused repetitive movements plays players need comfortable executing quickly without thinking three types drill skill movement specific common type drill employs repetition improve skills like blocking setting use drills build good habits correct bad ones tactical systematic strategic drills practice combinations playing skills incorporated players developed basic skills types drills also time teach team communicate court conditioning drills build strength stamina note energy required conditioning drills may detract execution technique reason keep conditioning oriented drills separate skill specific drills season practice keep drills focused fun make practice plan based skills want improve problems want solve drill set goal focus communicate players knowing concentrate helps get drill find works need constantly incorporate new drills instead focus finding handful drills team enjoy use rotation adding variation necessary divide players play one another give new players feel rhythm volleyball game allow seasoned players practice need essential volleyball team begins competing teams good coach tactical able strategize based players strengths weaknesses large part decision involves qualifications coaching professionally requires high level experience expertise recreational coaching less competitive field national collegiate athletic association oversees volleyball programs division levels colleges universities need years volleyball playing coaching experience order apply job college program school athletic director often responsible hiring coaches many high school teams men women volleyball teams whether positions paid volunteer depend school budget local park recreation departments community associations use professional volunteer coaches youth programs check nationally popular programs sports diversity youth sports play sports express interest youth sports leagues specific volleyball united states youth volleyball league youth volleyball association national leagues put touch local chapters better coaching playing coach adult single sex co ed team check local community college recreational center ymca leagues teams\n",
            "Reference summary: make sure everyone team understands game communicative coach socratically coach democratically talking players use rather puts defensive provide safe practice environment plan training sessions advance start practice light jog minutes incorporate dynamic stretches teach players drills play practice games develop starting lineups substitution plans decide whether hope coach professionally recreationally coach volleyball professionally college university team coach high school level look opportunities coach youth leagues join adult recreational league\n",
            "Summary: go time go use back <EOS>\n",
            "\n",
            "Article: order scene time need get rid idea labeling girl second period teases bleached hair make scene one girl math class yeah wears colored hair extensions scene quit labeling everybody little things going little parts scene incorporated look right better stop labeling label labeling scene going end looking like poser want words clear mind labels label anybody especially incorporate scene appearance must know like like hair go trying individual hint scene individuality key scene hair go dye however want white black every neon color streaks clip extensions wacky hair cuts however hair really like scene better keep hair people may directing attention hair label appears scene shall examine rest confirmation whether realize hair scene material keep rest unique meaning lay low eye liner dress typically scene etc let hair shine however literal want take like clothes clothes really noticeable unlike say goth clothing prep clothing stick certain styles brands make stick scene hand clothes robots dinosaurs hello kitty skelanimals gloomy bear kiddy things indie bands etc course also wear lot solid colored clothing love fashion means wear tone everything else matching clothes lot eye liner necessarily called scene worse poser got half look yet shall look like bad thing need respected true scenes shunned makeup wear accent something else scene thought emo something else makeup heavy eyeliner eyeshadow bright colors dark colors accent clothing slightly clothing mean wear bright things among style scene stated taken emo make sure wild hair wild makeup scene appearance right natural hair going go makeup wear bright clothes wanted avoid labels like everything good get least picky ways look tease hair desire much dramatic bow hurt long big accents hair face stand base clothing scene limit cool hello kitty shirt also cool pirates caribbean shirt wear scene inspired clothing importantly wear like also wear eyeliner want heavy somewhat noticeable eyeshadow optional go false lashes heavy blush okay long blended well basically go makeup overdo quit myspace trains stop sending wh bulletins take scene queens including star top myspace says lot normal myspace however okay keep friends comments interests etc hidden like also need stray scene friends moving easy maybe want okay make sure know going case ditch rare case friends like also going keep scene friends let influence one girl going show bringing friends mean come friend getting snakebites mean come get septum remember everything friends takes long time gradually become scene avoiding called poser know slowly surely well want individualistic slightly scene right even though going fully scene need still work slowly remember subtly key much scene still going called poser looking part part look somewhat scene subtle much posing completely scene want respect real scene kids trust may seem little odd seeing supposed help slightly part labeled look understand part purely individuality think outside box limited people think fashion defined inside labels may partly scene part individuality want cave wide world scene take piece use become person scene tiny chunk really\n",
            "Reference summary: stop labeling realize like scene unsceneify already scene work way called poser important thing learn\n",
            "Summary: avoid time get avoid <EOS>\n",
            "\n",
            "Article: standard certificate another us state territory apply review texas education agency create online tea login account agency website get tea id number fill application state certificate review completing application pay review fee apply one year non renewable teaching certificate tandem application review need submit copy standard certificate hold states territories submit necessary documents tea via email include tea id number documents forget include sides two sided documents student services administration certification reviewed submit proof two years corresponding experience official school service record review also requires official transcripts colleges universities attended transcripts may submitted electronically school attended send official transcripts tea mail official documentation outside us also need submitted mail may take weeks receive confirmation receipt documents review complete tea email results results include list tests need pass standard certification texas certified another state likely already taken test comparable required texas see tea chart comparable tests website test qualifies comparable contact testing company direct send official results tea test scores sent get results review taken comparable test take test tea indicates likely either texas examinations educator standards examination certification educators texas results also notify received eligible year long non renewable certificate apply certificate applied review log teal account click educator link select state certified applicants initial one year certificate website prompt apply pay one year certificate met requirements need apply standard teaching certificate state texas use teal account apply online click educator link select state certified applicants see list applications scroll click standard certificate prompted submit application pay fee\n",
            "Reference summary: state standard certificate reviewed submit certificate electronically official transcripts submitted mail follow directions given tea receive one year teaching certificate apply standard certificate\n",
            "Summary: go facebook website website <EOS>\n",
            "\n",
            "Article: make twitter account follow favorite celeb tweet directly using symbol followed account name use tags celebrity using improve chances seeing posts follow twitter accounts celebrity follows may make tweets visible try connect accounts well might put good word celebrity make sure following verified account celebrity indicated blue checkmark beside account name add celebrity friend facebook otherwise like page many celebrities turn private messaging platform many cases still communicate posting wall send private messages friendly polite request contact respectfully tell celebrity message feel important making message personal may improve chances contacted although celebrities may disable private messaging never hurts try sending direct message comment photos posts made celebrity never know celebrity respond comment upload photos similar ones see celebrity instagram connect celebrity pictures shared interests hashtag celebrity uploaded photos use hashtags celebrity avoid hashtagging much though may come across assertive obnoxious official fan celebrity websites may message boards celebrity reads comments post community online spaces like increase chances reaching celebrity getting response look recent posts responses celebrity website members site inactivity good sign chances contact slim cases contact celebrity platforms target platform celebrity active check usage history see responded users twitter especially common platform users often get shout favorite celebrities notice celebrity rarely never uses certain platform interact fans focus efforts one active write thoughtful message expressing feelings celebrity request personalized response message send follow messages time passed try respect fact person really know even though may feel like already know well send follow messages two weeks month messaging summarize previous message reiterate would appreciate response limit follow messages two three per month send messages might interpreted coming strong though may also taken humorously use best judgement messages long ramble without point might overlooked focus specific experiences like moment recognized much appreciated celebrity work first time saw live write unique engaging message celebrity talk impact life include related childhood story help stand fans remember include brief request response like could write short personal message signature really appreciate sensitive attempting cases flooding celebrity messages electronic accounts might interpreted coming strong might try two different platforms first two others alternate fan communities often put together gifts celebrity special dates like birthday day first big release joining activities like could put closer contact celebrity gift ideas might suggest present celebrity include things like collages gift baskets handmade crafts question answer events think engaging questions follow directions event submit kick gift giving celebration special event posting something like hey guys realized birthday coming thought could something nice depending celebrity may getting dozens even thousands messages day may take time celebrity publicist sift message find waiting join fan community activities might hear meet greets contact opportunities\n",
            "Reference summary: check favorite celebrity twitter contact celebrity facebook get celebrity attention instagram contact celebrities official websites investigate platforms celebrity uses message celebrity persistently respectfully write clearly concisely messages message several different platforms participate fan community events wait patiently response\n",
            "Summary: ask questions ask questions ask questions ask questions ask questions ask <EOS>\n",
            "\n",
            "Article: many dogs suitable hunting waterfowl popular labrador retrievers golden retrievers springer spaniels look different breeds decide one best hunting adventures also mindful amount care particular breed need dogs require lot room run example others sedentary choose dog provide good home although many adult dogs trained hunt waterfowl generally best train puppy puppy allow time train dog hunting style starting puppy also ensure loyal dog bonded conditioned owner make sure use reputable breeder research breeders online local dog hunting clubs animal shelters animal controls often lab retriever mix puppies danger put sleep many mixes trained retrieve ducks proper time spent training ask shelter foster retriever mix puppies find one natural instinct retrieve likes water many times dogs natural instinct help find home work different puppy instill idea water good water fun playing water way earn rewards positive reinforcement start small wading pool first time dog ready open water although basic clich dog commands serve foundational commands complex hunting demands use food way teach sitting hold food dog head give command sit simultaneously pressing gently dog hind legs soon dog sits give treat repeat soon dog sit first glance treat eventually sit without requiring treat important dog quickly understand difference real duck decoy utilize waterfowl scent dummies train dog sure set decoys far away dog throwing dummy able find dummy knows difference real bird decoy make waterfowl training fun rewarding experience dog attach scent decoy training device throw water see dog fetch trainer return make sure let dog know good job done nothing dog wants please owner establish lifelong hunting partnership important let dog know young age retrieving game something rewarded dog trained theory may perform expectations field dog expected perform around guns needs trained presence guns take waterfowl dog target practice set simulated hunts proper shooting area key point dog prepared actual situations expect perform like seasoned hunter condition dog prior hunt want dog peak performance field train dog scent feel waterfowl dog impress field remember dog biggest pleasure pleasing owner show appreciation good behavior practice dog certainly please hunting situations load practice retrieving dummies boat basic goal get dog retrieve bird training program focus rewarding dog retrieving training dummy natural instincts retriever want go retrieve return shot bird job owner get dog trained consistently methodically\n",
            "Reference summary: research different breeds water dogs pick puppy introduce puppy water little teach dog sit stay introduce dog decoys scent waterfowl practice daily possible reinforce positive behavior positive rewards expose dog actual hunting situations taking field use training dummies early often train dog boat prior hunt boats going used simplify training keeping simple\n",
            "Summary: take dog dog dog <EOS>\n",
            "\n",
            "Article: challenge brain form new connections pathways things normally autopilot differently brush teeth non dominant hand walk around going backwards time talk different language whatever mix forms new pathways connections brain quite often take granted easy life especially get basics mix brain relearn skill challenging much research shown meditating good stress levels mood also good brain functioning shown improve blood flow brain patience concentration memory totally relaxing try minutes day may split minute blocks times day preferable wake exercise night directly go bed much safer alternative taking smart drugs taking natural supplements make sure taking right amount talking doctor first ones come backed scientific research caffeinecreatineginkgo bilobaomega fatty acids studies win wenger show breath correlates attention span try underwater swimming running aerobic exercise exercise twice day minutes wake go bed preferably couple meditation exercise good waistline fitness turn improve mood endorphins release exercise sessions active brain better shall feel people prime thinking zone morning night even others whenever finished third cup coffee since everyone different sleep brain wants best work night sleep late lazy wise aim get solid hours sleep night tired brain cannot function cuts thinks sort putting hibernation mode absolutely keep alive breathing consistent inadequate sleep also prevents brain developing full potential lead various mental physical illnesses line genetics aside education big factor contributing iq try reading sciences mathematics physics sciences increase understanding world turn improves comprehension vocabulary spatial mathematical abilities logic try mit opencourseware offers notes syllabuses tests official mit courses also go coursera khanacademy even youtube stave dementia keep brain churning away high speeds make sure puzzles games regularly means time internet phone download apps like lumosity saying quiz games get brain juices flowing put candy crush spend time instead improving iq wechsler adult intelligence scale stanford binet measure intelligence single simple form rather set problems measure ability process things quickly understand told recognize sequences like chemistry test take four times high school pass iq tests different basic structure types questions therefore take better tests take free online like actual tests might take career center psychiatrist want real iq shall take real thing generally fee always try hardest thing day day brain sort goes autopilot stops taking stimuli comfortable surroundings new experiences though brain wakes takes revving change instead popping dvd tonight find museum show new place check keep mental clock ticking wildly even visiting new place trying new food good experience widening knowledge making better informed future decisions however different better consider excuse exotic vacation actively learning new things helps brain learn may help make connections possible learning new skill play chess lacrosse juggle anything never done matter may help brain ways never even dreamed learning another language great way get brain working new pathways fire centers brain used real world applicable impressive boot protein ability increase brain production neurotransmitters increases norepinephrine dopamine levels turn increases alertness problem solving skills especially important breakfast get ready raring go day sugar breakfast leads crash couple hours slowing leaving even hungrier also high magnesium vitamins b b e powerhouse antioxidants helps fight free radicals makes sure bodies stay healthy strong much though course anywhere ounces day good little nutrient increases blood flow brain find vitamin b green leafy vegetables whole wheat meat eggs cheese sure get much either talk doctor appropriate amount folic acid riboflavin thiamine niacin part structure vitamin b get vitamin b get powerhouse goodies one many studies shown healthy diet linked higher iq especially children keep brain firing pistons stay away junk food like cookies chips processed food cooking home help brain budget vegetarians higher iqs whole points sexes get extra boost make meatless monday regular thing throughout week intermittent fasting shown lead increased brain power higher level functioning eat hours eat plenty may may mean caloric restriction depending also use technique manage weight many fast intermittently see great results terms weight loss make sure safely fasting everyone\n",
            "Reference summary: everyday things differently meditate consider taking supplements start regular aerobic exercise sleep brain actually wants read word puzzles problem solving games take tests get new experiences teach something new eat plenty protein breakfast snack dark chocolate dark chocolate full antioxidants loaded flavonols get vitamin b avoid processed junk foods consider fasting intermittently\n",
            "Summary: make sure get food use get use get use <EOS>\n",
            "\n",
            "Article: milk juice residue left behind produce mold mixed birdseed sure flush dry thoroughly little archway door makes nice shape deciding large make shape consider size birds shall encouraging potential animals try sneak birds food paint one color choose natural color allow dry completely glue twigs sloped part carton make cute little roof allow dry thoroughly use twigs size cut size gluing little overhang create effect end roof eaves form flower shapes using buttons glue carton optional look pretty provides perch bird sit feeds may need add dab glue keep solidly place test pushing gently create hanger recycled bird feeder hang tree branch clothesline similar space garden\n",
            "Reference summary: wash carton cut window door shape either front back carton paint carton glue row twigs across side door make flower decorations buttons push twig front side open hole thread string wire top carton fill birdseed\n",
            "Summary: gather oven add make sure <EOS>\n",
            "\n",
            "Article: never public school may even realize school must ask permission go use bathroom teacher actually say never worry homeschooled go need go regular school allowed couple absences starts hurting grades case home school take day feeling good got lot done early week almost place educational go regular school field trips often boring visit zoo see movie take trip grocery store stuck school means stuck desk day long homeschooled get move around need take breaks run around outside get stretch every much healthier schedule time play soccer neighborhood kids play tag siblings could also try yoga running around house regular school pretty much wait lunch eat hungry lunch three hours bad problem home school eat hungry eat healthy snacks fuel learning try ants log grapes fruit leathers people might think homeschooled kids lonely unsocialized need bet case make plans get together homeschooled friends school lessons together science projects plan field trips together going beach another way hang kids fun participate activities homeschooled time freedom join clubs take classes try activities could take karate classes try gymnastics learn bird watching\n",
            "Reference summary: use bathroom freely take days need go awesome field trips homeschooled take field trips amusement parks museums concerts restaurants move around get bored eat hungry socialize friends participate activities\n",
            "Summary: take time time go time ask <EOS>\n",
            "\n",
            "Article: pick favorite mix n match six flags magic mountain universal studios hollywood knott berry farm disneyland park disney california adventure legoland california seaworld san diego shall find malibu beaches coastline santa monica beach venice beach manhattan hermosa beaches redondo beach huntington beach newport beach laguna beach doheny beach dana point san onofre beach mission beach pacific beach imperial beach beaches still beaches also check yamashiro restaurant incredible views la angeles crest highway shall swear colorado visit big bear lake village drive rim world highway go boating camping lake arrowhead take palm springs aerial tramway ride outstanding view visit downtown la jewelry fashion districts take quick jaunt south south border tijuana mexico part continuous city makes southern california visit one greater la many outlet malls ontario mills ontario biggest viejas outlet center san diego atmosphere shops las americas overlooks tijuana back parking lot remote island experience visit islands channel islands national park mission san diego de alcala beats even olvera street age first whole california mission chain san diego old town spanish core city lively mix historic displays shopping dining san diego gas lamp quarter original gringo downtown hip n happening nightlife center san diego waterfront maritime museum cannot miss spot lovers sea whale watching tours leave several metro la ports winter early spring months go snorkeling scuba diving clear waters catalina island\n",
            "Reference summary: decide focus vacation theme park vacation major theme parks southern california beach vacations shall enjoy continuous stretch beach southern california hollywood vacations see hollywood sign hunt stars hollywood walk fame enjoy concert hollywood bowl tour kodak theater home academy awards shop dine outrageous babylon themed hollywood highland center hear restored wurlitzer take disney movie el capitan theater put feet famous footprints grauman chinese theater courtyard see hollywood tourist overview movie historic egyptian theater check newly restored griffith park observatory spend day shopping dining clubbing universal studios citywalk mountain vacation take drive isolated shopping vacation rodeo drive beverly hills need say island vacation catalina island miles across sea old song says world away atmosphere history vacation visit olvera street downtown los angeles city started art vacation miss still new getty museum original getty museum malibu norton simon museum pasadena wonderful huntington library museum paintings beautiful grounds strolling los angeles county museum art bit everything miss pageant masters festival arts plus general gallery hopping laguna beach animal vacations miss san diego zoo one world foremost zoological parks san diego wildlife park escondido seaworld san diego lovable shamu killer whale must take canine companion dog beach huntington beach dine together afterwards park bench cafe hb central park shall find human dog menus\n",
            "Summary: go time go <EOS>\n",
            "\n"
          ],
          "name": "stdout"
        }
      ]
    },
    {
      "cell_type": "code",
      "metadata": {
        "id": "k5Lb6_mCJjuj",
        "colab_type": "code",
        "colab": {}
      },
      "source": [
        ""
      ],
      "execution_count": 0,
      "outputs": []
    }
  ]
}