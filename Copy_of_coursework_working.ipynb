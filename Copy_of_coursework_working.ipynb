{
  "nbformat": 4,
  "nbformat_minor": 0,
  "metadata": {
    "kernelspec": {
      "name": "python3",
      "display_name": "Python 3"
    },
    "language_info": {
      "codemirror_mode": {
        "name": "ipython",
        "version": 3
      },
      "file_extension": ".py",
      "mimetype": "text/x-python",
      "name": "python",
      "nbconvert_exporter": "python",
      "pygments_lexer": "ipython3",
      "version": "3.6.6"
    },
    "colab": {
      "name": "Copy of coursework_working.ipynb",
      "provenance": [],
      "collapsed_sections": [],
      "machine_shape": "hm",
      "include_colab_link": true
    },
    "accelerator": "GPU"
  },
  "cells": [
    {
      "cell_type": "markdown",
      "metadata": {
        "id": "view-in-github",
        "colab_type": "text"
      },
      "source": [
        "<a href=\"https://colab.research.google.com/github/Thrilok28021996/Course_work/blob/master/Copy_of_coursework_working.ipynb\" target=\"_parent\"><img src=\"https://colab.research.google.com/assets/colab-badge.svg\" alt=\"Open In Colab\"/></a>"
      ]
    },
    {
      "cell_type": "code",
      "metadata": {
        "_cell_guid": "b1076dfc-b9ad-4769-8c92-a6c4dae69d19",
        "_uuid": "8f2839f25d086af736a60e9eeb907d3b93b6e0e5",
        "id": "RsakrWvnHmo3",
        "colab_type": "code",
        "colab": {}
      },
      "source": [
        "import numpy as np \n",
        "import pandas as pd\n",
        "import os"
      ],
      "execution_count": 0,
      "outputs": []
    },
    {
      "cell_type": "code",
      "metadata": {
        "id": "-1Xej_Q4H1K1",
        "colab_type": "code",
        "colab": {}
      },
      "source": [
        "# This code has been taken from this link https://towardsdatascience.com/3-ways-to-load-csv-files-into-colab-7c14fcbdcb92\n",
        "# For LOADING THE DATASET FROM THE GOOGLE DRIVE\n",
        "!pip install -U -q PyDrive\n",
        "from pydrive.auth import GoogleAuth\n",
        "from pydrive.drive import GoogleDrive\n",
        "from google.colab import auth\n",
        "from oauth2client.client import GoogleCredentials\n",
        "# Authenticate and create the PyDrive client.\n",
        "auth.authenticate_user()\n",
        "gauth = GoogleAuth()\n",
        "gauth.credentials = GoogleCredentials.get_application_default()\n",
        "drive = GoogleDrive(gauth)"
      ],
      "execution_count": 0,
      "outputs": []
    },
    {
      "cell_type": "code",
      "metadata": {
        "id": "DYL43vvYH9_r",
        "colab_type": "code",
        "outputId": "74c398aa-143e-4bd6-f452-04f187792d95",
        "colab": {
          "base_uri": "https://localhost:8080/",
          "height": 34
        }
      },
      "source": [
        "link ='https://drive.google.com/open?id=1lvMoUF1YzgIEvLW13_wYy_9JR9dTmDuu'\n",
        "\n",
        "fluff, id = link.split('=')\n",
        "print (id) # Verify that you have everything after '='"
      ],
      "execution_count": 5,
      "outputs": [
        {
          "output_type": "stream",
          "text": [
            "1lvMoUF1YzgIEvLW13_wYy_9JR9dTmDuu\n"
          ],
          "name": "stdout"
        }
      ]
    },
    {
      "cell_type": "code",
      "metadata": {
        "id": "HzDlJOjNH-NL",
        "colab_type": "code",
        "outputId": "16a6a397-d23b-418a-a943-3b7bcb17e2aa",
        "colab": {
          "base_uri": "https://localhost:8080/",
          "height": 34
        }
      },
      "source": [
        "import pandas as pd\n",
        "downloaded = drive.CreateFile({'id':id}) \n",
        "downloaded.GetContentFile('preprocess_data.csv')  \n",
        "data = pd.read_csv('preprocess_data.csv',encoding='utf-8')\n",
        "# Dataset is now stored in a Pandas Dataframe\n",
        "print(\"Dataset is now Loaded\")"
      ],
      "execution_count": 6,
      "outputs": [
        {
          "output_type": "stream",
          "text": [
            "Dataset is now Loaded\n"
          ],
          "name": "stdout"
        }
      ]
    },
    {
      "cell_type": "code",
      "metadata": {
        "id": "qSdit6-V0qB8",
        "colab_type": "code",
        "outputId": "1a2317ea-e473-4f71-d4ef-03cec5b253a9",
        "colab": {
          "base_uri": "https://localhost:8080/",
          "height": 293
        }
      },
      "source": [
        "data.head()"
      ],
      "execution_count": 7,
      "outputs": [
        {
          "output_type": "execute_result",
          "data": {
            "text/html": [
              "<div>\n",
              "<style scoped>\n",
              "    .dataframe tbody tr th:only-of-type {\n",
              "        vertical-align: middle;\n",
              "    }\n",
              "\n",
              "    .dataframe tbody tr th {\n",
              "        vertical-align: top;\n",
              "    }\n",
              "\n",
              "    .dataframe thead th {\n",
              "        text-align: right;\n",
              "    }\n",
              "</style>\n",
              "<table border=\"1\" class=\"dataframe\">\n",
              "  <thead>\n",
              "    <tr style=\"text-align: right;\">\n",
              "      <th></th>\n",
              "      <th>headline</th>\n",
              "      <th>text</th>\n",
              "    </tr>\n",
              "  </thead>\n",
              "  <tbody>\n",
              "    <tr>\n",
              "      <th>0</th>\n",
              "      <td>keep related supplies area make effort clean d...</td>\n",
              "      <td>photographer keep necessary lens cords batteri...</td>\n",
              "    </tr>\n",
              "    <tr>\n",
              "      <th>1</th>\n",
              "      <td>create sketch neopoprealist manner future mura...</td>\n",
              "      <td>see image drawing develops step step however i...</td>\n",
              "    </tr>\n",
              "    <tr>\n",
              "      <th>2</th>\n",
              "      <td>get bachelor degree enroll studio based progra...</td>\n",
              "      <td>possible become vfx artist without college deg...</td>\n",
              "    </tr>\n",
              "    <tr>\n",
              "      <th>3</th>\n",
              "      <td>start experience interest art understand diffe...</td>\n",
              "      <td>best art investors research pieces art buy som...</td>\n",
              "    </tr>\n",
              "    <tr>\n",
              "      <th>4</th>\n",
              "      <td>keep reference materials sketches articles pho...</td>\n",
              "      <td>start planning project work shall likely gathe...</td>\n",
              "    </tr>\n",
              "  </tbody>\n",
              "</table>\n",
              "</div>"
            ],
            "text/plain": [
              "                                            headline                                               text\n",
              "0  keep related supplies area make effort clean d...  photographer keep necessary lens cords batteri...\n",
              "1  create sketch neopoprealist manner future mura...  see image drawing develops step step however i...\n",
              "2  get bachelor degree enroll studio based progra...  possible become vfx artist without college deg...\n",
              "3  start experience interest art understand diffe...  best art investors research pieces art buy som...\n",
              "4  keep reference materials sketches articles pho...  start planning project work shall likely gathe..."
            ]
          },
          "metadata": {
            "tags": []
          },
          "execution_count": 7
        }
      ]
    },
    {
      "cell_type": "markdown",
      "metadata": {
        "id": "wEsAWFK5Hmqy",
        "colab_type": "text"
      },
      "source": [
        "Torch Req"
      ]
    },
    {
      "cell_type": "code",
      "metadata": {
        "id": "IZMhgsE804NM",
        "colab_type": "code",
        "colab": {}
      },
      "source": [
        "x = data['text'].astype(str)\n",
        "y = data['headline'].astype(str)"
      ],
      "execution_count": 0,
      "outputs": []
    },
    {
      "cell_type": "code",
      "metadata": {
        "id": "2v2JRL29052Q",
        "colab_type": "code",
        "colab": {}
      },
      "source": [
        "from __future__ import unicode_literals, print_function, division\n",
        "from io import open\n",
        "import unicodedata\n",
        "import string\n",
        "import re\n",
        "import random\n",
        "\n",
        "import torch\n",
        "import torch.nn as nn\n",
        "from torch import optim\n",
        "import torch.nn.functional as F\n",
        "\n",
        "device = torch.device(\"cuda\" if torch.cuda.is_available() else \"cpu\")"
      ],
      "execution_count": 0,
      "outputs": []
    },
    {
      "cell_type": "code",
      "metadata": {
        "id": "Z8AVu9A008KZ",
        "colab_type": "code",
        "colab": {}
      },
      "source": [
        "SOS_token = 0\n",
        "EOS_token = 1\n",
        "\n",
        "\n",
        "class Vocab:\n",
        "    def __init__(self, name):\n",
        "        self.name = name\n",
        "        self.word2index = {}\n",
        "        self.word2count = {}\n",
        "        self.index2word = {0: \"SOS\", 1: \"EOS\"}\n",
        "        self.n_words = 2  # Count SOS and EOS\n",
        "\n",
        "    def addSentence(self, sentence):\n",
        "        for word in sentence.split(' '):\n",
        "            self.addWord(word)\n",
        "\n",
        "    def addWord(self, word):\n",
        "        if word not in self.word2index:\n",
        "            self.word2index[word] = self.n_words\n",
        "            self.word2count[word] = 1\n",
        "            self.index2word[self.n_words] = word\n",
        "            self.n_words += 1\n",
        "        else:\n",
        "            self.word2count[word] += 1"
      ],
      "execution_count": 0,
      "outputs": []
    },
    {
      "cell_type": "code",
      "metadata": {
        "id": "fW9BnXh00-bI",
        "colab_type": "code",
        "colab": {}
      },
      "source": [
        "def readVocabs(text, summary, reverse=False):\n",
        "    print(\"Reading lines...\")\n",
        "    pairs =[]\n",
        "    missing_lines = 0\n",
        "    # Split every line into pairs and normalize\n",
        "    for i in range(len(text)):\n",
        "      try:\n",
        "        pairs.append([text[i],summary[i]])\n",
        "      except:\n",
        "        missing_lines=missing_lines+1\n",
        "    # Reverse pairs, make Lang instances\n",
        "    if reverse:\n",
        "        pairs = [list(reversed(p)) for p in pairs]\n",
        "        input_vocab = Vocab(summary)\n",
        "        output_vocab = Vocab(text)\n",
        "    else:\n",
        "        input_vocab = Vocab(text)\n",
        "        output_vocab = Vocab(summary)\n",
        "    print(\"total missing indices\"+str(missing_lines))\n",
        "    return input_vocab, output_vocab, pairs"
      ],
      "execution_count": 0,
      "outputs": []
    },
    {
      "cell_type": "code",
      "metadata": {
        "id": "eEZOtWQ81ABo",
        "colab_type": "code",
        "colab": {}
      },
      "source": [
        "def prepareData(vocab1, vocab2, reverse=False):\n",
        "    input_vocab, output_vocab, pairs = readVocabs(vocab1, vocab2, reverse)\n",
        "    print(\"Read %s sentence pairs\" % len(pairs))\n",
        "    print(\"Counting words...\")\n",
        "    for pair in pairs:\n",
        "        input_vocab.addSentence(pair[0])\n",
        "        output_vocab.addSentence(pair[1])\n",
        "    print(\"Counted words:\")\n",
        "    print(input_vocab.name, input_vocab.n_words)\n",
        "    print(output_vocab.name, output_vocab.n_words)\n",
        "    return input_vocab, output_vocab, pairs"
      ],
      "execution_count": 0,
      "outputs": []
    },
    {
      "cell_type": "code",
      "metadata": {
        "id": "VIjVSA0V1Bk9",
        "colab_type": "code",
        "outputId": "4119b7b3-a6ef-4abc-b961-94c83981dd40",
        "colab": {
          "base_uri": "https://localhost:8080/",
          "height": 558
        }
      },
      "source": [
        "input_vocab, output_vocab, pairs = prepareData( x, y , False)\n",
        "print(random.choice(pairs))"
      ],
      "execution_count": 13,
      "outputs": [
        {
          "output_type": "stream",
          "text": [
            "Reading lines...\n",
            "total missing indices0\n",
            "Read 180127 sentence pairs\n",
            "Counting words...\n",
            "Counted words:\n",
            "0         photographer keep necessary lens cords batteri...\n",
            "1         see image drawing develops step step however i...\n",
            "2         possible become vfx artist without college deg...\n",
            "3         best art investors research pieces art buy som...\n",
            "4         start planning project work shall likely gathe...\n",
            "                                ...                        \n",
            "180122    name like might fiddle spelling see alternate ...\n",
            "180123    name might sound great say loud bedroom find s...\n",
            "180124    relief printing oldest traditional printing te...\n",
            "180125    intaglio italian incis ing correspondingly rev...\n",
            "180126    lithography big term often used refer many dif...\n",
            "Name: text, Length: 180127, dtype: object 152911\n",
            "0         keep related supplies area make effort clean d...\n",
            "1         create sketch neopoprealist manner future mura...\n",
            "2         get bachelor degree enroll studio based progra...\n",
            "3         start experience interest art understand diffe...\n",
            "4         keep reference materials sketches articles pho...\n",
            "                                ...                        \n",
            "180122    consider changing spelling name avoid symbols ...\n",
            "180123    try name legally change name register stage na...\n",
            "180124    understand process relief printing examine rim...\n",
            "180125    understand process intaglio printing look plat...\n",
            "180126    understand different varieties lithography mag...\n",
            "Name: headline, Length: 180127, dtype: object 64078\n",
            "['overweight weight loss one key lifestyle modifications make decrease stress arthritic joint hence reduce pain note currently overweight strategy apply applies currently ideal body weight speak doctor nutritionist healthy weight loss plan ask ideal body weight important lose weight way compromise nutrition way sustainable long term sports put higher risk injury lead arthritis include ones lot pounding running well skiing snowboarding basketball hockey football among others many people giving sport love order prevent injury challenging decision many people injure athletics passionate sport play important consider short term satisfaction playing sport also long term quality life may compromised continue put undue stress injured arthritic joint think whether lower impact sports activities enjoy perhaps try swimming riding bicycle water running activities excellent cardiovascular health fitness also low impact joints physically demanding strenuous job stresses injured joint ask boss switch alternative duties work perhaps desk job another task involve amount physical stress strain consider getting medical note doctor explains boss importance stressing injured arthritic joint particularly initial traumatic injury sustained work injured job initially look possibility worker compensation employment insurance may receive coverage injury particularly severe may get disability pay without needing return work strengthening surrounding muscles help reduce impact load joint exercises prescribed physiotherapist depend upon nature injury joint specifically affected also recommended consume fish rich omega fatty acids walnuts flaxseed also contain omega fatty acids finally consume plenty organic fruits vegetables antioxidants contained help post traumatic arthritis include evening primrose oil omega fatty acids chondroitin glucosamine sulphate speak naturopath interested trying natural supplements means treat post traumatic arthritis', 'consider weight loss post traumatic arthritis normally caused injury exacerbated continual weight bearing stress strain joint choose lower impact sports activities particularly injury first led arthritis sports related may want consider avoiding sport reducing involvement prevent injury joint joints ask modified duties workplace see physiotherapist one way reduce pain joint post traumatic arthritis see physiotherapist prescribe exercises strengthen muscles surrounding injured joint modify diet consuming turmeric ginger helps combat inflammation pain post traumatic arthritis consult naturopath variety supplements shown help osteoarthritis']\n"
          ],
          "name": "stdout"
        }
      ]
    },
    {
      "cell_type": "code",
      "metadata": {
        "id": "obgIz4Fm9Bxy",
        "colab_type": "code",
        "colab": {}
      },
      "source": [
        "def create_lengths(text):\n",
        "    '''Create a data frame of the sentence lengths from a text'''\n",
        "    lengths = []\n",
        "    for sentence in text:\n",
        "        lengths.append(len(sentence))\n",
        "    return pd.DataFrame(lengths, columns=['counts'])"
      ],
      "execution_count": 0,
      "outputs": []
    },
    {
      "cell_type": "code",
      "metadata": {
        "id": "i-kaHBfo9B__",
        "colab_type": "code",
        "outputId": "2c5a1c04-66b4-4e51-9243-8449820e9522",
        "colab": {
          "base_uri": "https://localhost:8080/",
          "height": 382
        }
      },
      "source": [
        "len_summaries = create_lengths(y)\n",
        "len_articles = create_lengths(x)\n",
        "\n",
        "print(\"Summaries:\")\n",
        "print(len_summaries.describe())\n",
        "print()\n",
        "print(\"Articles:\")\n",
        "print(len_articles.describe())"
      ],
      "execution_count": 15,
      "outputs": [
        {
          "output_type": "stream",
          "text": [
            "Summaries:\n",
            "              counts\n",
            "count  180127.000000\n",
            "mean      211.691007\n",
            "std       179.585936\n",
            "min         3.000000\n",
            "25%        99.000000\n",
            "50%       156.000000\n",
            "75%       271.000000\n",
            "max     14563.000000\n",
            "\n",
            "Articles:\n",
            "              counts\n",
            "count  180127.000000\n",
            "mean     1786.784757\n",
            "std      1752.965176\n",
            "min         3.000000\n",
            "25%       719.000000\n",
            "50%      1233.000000\n",
            "75%      2121.000000\n",
            "max     48273.000000\n"
          ],
          "name": "stdout"
        }
      ]
    },
    {
      "cell_type": "code",
      "metadata": {
        "id": "jom7o6Fh9CMx",
        "colab_type": "code",
        "outputId": "fc22f908-4cc4-4d2f-ca03-8100a5c27bdf",
        "colab": {
          "base_uri": "https://localhost:8080/",
          "height": 86
        }
      },
      "source": [
        "print(\"\\t\\t Min\\t 25%\\t Avg\\t 75%\\t Max\")\n",
        "print(\"\\nArticle\\t\\t {}\\t{}\\t{}\\t{}\\t{}\".format(np.percentile(len_articles,0),np.percentile(len_articles,25),np.percentile(len_articles,50),np.percentile(len_articles,75),np.percentile(len_articles,100)))\n",
        "print(\"Summary\\t\\t {}\\t{}\\t{}\\t{}\\t{}\".format(np.percentile(len_summaries,0),np.percentile(len_summaries,25),np.percentile(len_summaries,50),np.percentile(len_summaries,75),np.percentile(len_summaries,100)))"
      ],
      "execution_count": 16,
      "outputs": [
        {
          "output_type": "stream",
          "text": [
            "\t\t Min\t 25%\t Avg\t 75%\t Max\n",
            "\n",
            "Article\t\t 3.0\t719.0\t1233.0\t2121.0\t48273.0\n",
            "Summary\t\t 3.0\t99.0\t156.0\t271.0\t14563.0\n"
          ],
          "name": "stdout"
        }
      ]
    },
    {
      "cell_type": "code",
      "metadata": {
        "id": "gFBro9F21p-K",
        "colab_type": "code",
        "colab": {}
      },
      "source": [
        "MAX_LENGTH = 2500"
      ],
      "execution_count": 0,
      "outputs": []
    },
    {
      "cell_type": "code",
      "metadata": {
        "id": "CRQhoIHA1DHQ",
        "colab_type": "code",
        "colab": {}
      },
      "source": [
        "class EncoderRNN(nn.Module):\n",
        "    def __init__(self, input_size, hidden_size):\n",
        "        super(EncoderRNN, self).__init__()\n",
        "        self.hidden_size = hidden_size\n",
        "\n",
        "        self.embedding = nn.Embedding(input_size, hidden_size)\n",
        "        self.gru = nn.GRU(hidden_size, hidden_size)\n",
        "\n",
        "    def forward(self, input, hidden):\n",
        "        embedded = self.embedding(input).view(1, 1, -1)\n",
        "        output = embedded\n",
        "        output, hidden = self.gru(output, hidden)\n",
        "        return output, hidden\n",
        "\n",
        "    def initHidden(self):\n",
        "        return torch.zeros(1, 1, self.hidden_size, device=device)"
      ],
      "execution_count": 0,
      "outputs": []
    },
    {
      "cell_type": "code",
      "metadata": {
        "id": "Iu7j4_MZ1bw2",
        "colab_type": "code",
        "colab": {}
      },
      "source": [
        "class DecoderRNN(nn.Module):\n",
        "    def __init__(self, hidden_size, output_size):\n",
        "        super(DecoderRNN, self).__init__()\n",
        "        self.hidden_size = hidden_size\n",
        "\n",
        "        self.embedding = nn.Embedding(output_size, hidden_size)\n",
        "        self.gru = nn.GRU(hidden_size, hidden_size)\n",
        "        self.out = nn.Linear(hidden_size, output_size)\n",
        "        self.softmax = nn.LogSoftmax(dim=1)\n",
        "\n",
        "    def forward(self, input, hidden):\n",
        "        output = self.embedding(input).view(1, 1, -1)\n",
        "        output = F.relu(output)\n",
        "        output, hidden = self.gru(output, hidden)\n",
        "        output = self.softmax(self.out(output[0]))\n",
        "        return output, hidden\n",
        "\n",
        "    def initHidden(self):\n",
        "        return torch.zeros(1, 1, self.hidden_size, device=device)"
      ],
      "execution_count": 0,
      "outputs": []
    },
    {
      "cell_type": "code",
      "metadata": {
        "id": "91_T7mef1eoK",
        "colab_type": "code",
        "colab": {}
      },
      "source": [
        "class AttnDecoderRNN(nn.Module):\n",
        "    def __init__(self, hidden_size, output_size, dropout, max_length=MAX_LENGTH):\n",
        "        super(AttnDecoderRNN, self).__init__()\n",
        "        self.hidden_size = hidden_size\n",
        "        self.output_size = output_size\n",
        "        self.dropout = dropout\n",
        "        self.max_length = max_length\n",
        "\n",
        "        self.embedding = nn.Embedding(self.output_size, self.hidden_size)\n",
        "        self.attn = nn.Linear(self.hidden_size * 2, self.max_length)\n",
        "        self.attn_combine = nn.Linear(self.hidden_size * 2, self.hidden_size)\n",
        "        self.dropout = nn.Dropout(self.dropout)\n",
        "        self.gru = nn.GRU(self.hidden_size, self.hidden_size)\n",
        "        self.out = nn.Linear(self.hidden_size, self.output_size)\n",
        "\n",
        "    def forward(self, input, hidden, encoder_outputs):\n",
        "        embedded = self.embedding(input).view(1, 1, -1)\n",
        "        embedded = self.dropout(embedded)\n",
        "\n",
        "        attn_weights = F.softmax(\n",
        "            self.attn(torch.cat((embedded[0], hidden[0]), 1)), dim=1)\n",
        "        attn_applied = torch.bmm(attn_weights.unsqueeze(0),\n",
        "                                 encoder_outputs.unsqueeze(0))\n",
        "\n",
        "        output = torch.cat((embedded[0], attn_applied[0]), 1)\n",
        "        output = self.attn_combine(output).unsqueeze(0)\n",
        "\n",
        "        output = F.relu(output)\n",
        "        output, hidden = self.gru(output, hidden)\n",
        "\n",
        "        output = F.log_softmax(self.out(output[0]), dim=1)\n",
        "        return output, hidden, attn_weights\n",
        "\n",
        "    def initHidden(self):\n",
        "        return torch.zeros(1, 1, self.hidden_size, device=device)"
      ],
      "execution_count": 0,
      "outputs": []
    },
    {
      "cell_type": "code",
      "metadata": {
        "id": "42gunFLZ1wPy",
        "colab_type": "code",
        "colab": {}
      },
      "source": [
        "def indexesFromSentence(vocab, sentence):\n",
        "    return [vocab.word2index[word] for word in sentence.split(' ')]\n",
        "\n",
        "\n",
        "def tensorFromSentence(vocab, sentence):\n",
        "    indexes = indexesFromSentence(vocab, sentence)\n",
        "    indexes.append(EOS_token)\n",
        "    return torch.tensor(indexes, dtype=torch.long, device=device).view(-1, 1)\n",
        "\n",
        "\n",
        "def tensorsFromPair(pair):\n",
        "    input_tensor = tensorFromSentence(input_vocab, pair[0])\n",
        "    target_tensor = tensorFromSentence(output_vocab, pair[1])\n",
        "    return (input_tensor, target_tensor)"
      ],
      "execution_count": 0,
      "outputs": []
    },
    {
      "cell_type": "code",
      "metadata": {
        "id": "kB7Jet6J1ya2",
        "colab_type": "code",
        "colab": {}
      },
      "source": [
        "teacher_forcing_ratio = 0.5\n",
        "\n",
        "def train(input_tensor, target_tensor, encoder, decoder,\n",
        "          encoder_optimizer, decoder_optimizer, criterion, \n",
        "          clip,max_length=MAX_LENGTH):\n",
        "    encoder_hidden = encoder.initHidden()\n",
        "\n",
        "    encoder_optimizer.zero_grad()\n",
        "    decoder_optimizer.zero_grad()\n",
        "\n",
        "    input_length = input_tensor.size(0)\n",
        "    target_length = target_tensor.size(0)\n",
        "\n",
        "    encoder_outputs = torch.zeros(max_length, encoder.hidden_size, device=device)\n",
        "\n",
        "    \n",
        "    loss = 0\n",
        "    \n",
        "\n",
        "    for ei in range(input_length):\n",
        "        encoder_output, encoder_hidden = encoder(\n",
        "            input_tensor[ei], encoder_hidden)\n",
        "             \n",
        "        if ei < max_length:\n",
        "          encoder_outputs[ei] = encoder_output[0, 0]\n",
        "\n",
        "      \n",
        "\n",
        "    decoder_input = torch.tensor([[SOS_token]], device=device)\n",
        "\n",
        "    decoder_hidden = encoder_hidden\n",
        "\n",
        "    use_teacher_forcing = True if random.random() < teacher_forcing_ratio else False\n",
        "\n",
        "    if use_teacher_forcing:\n",
        "        # Teacher forcing: Feed the target as the next input\n",
        "        for di in range(target_length):\n",
        "            decoder_output, decoder_hidden, decoder_attention = decoder(\n",
        "                decoder_input, decoder_hidden, encoder_outputs)\n",
        "            loss += criterion(decoder_output, target_tensor[di])\n",
        "            decoder_input = target_tensor[di]  # Teacher forcing\n",
        "\n",
        "    else:\n",
        "        # Without teacher forcing: use its own predictions as the next input\n",
        "        for di in range(target_length):\n",
        "            decoder_output, decoder_hidden, decoder_attention = decoder(\n",
        "                decoder_input, decoder_hidden, encoder_outputs)\n",
        "            topv, topi = decoder_output.topk(1)\n",
        "            decoder_input = topi.squeeze().detach()  # detach from history as input\n",
        "\n",
        "            loss += criterion(decoder_output, target_tensor[di])\n",
        "            if decoder_input.item() == EOS_token:\n",
        "                break\n",
        "\n",
        "    loss.backward()\n",
        "    \n",
        "    # Clip gradients: gradients are modified in place\n",
        "    _ = nn.utils.clip_grad_norm_(encoder.parameters(), clip)\n",
        "    _ = nn.utils.clip_grad_norm_(decoder.parameters(), clip)\n",
        "\n",
        "    encoder_optimizer.step()\n",
        "    decoder_optimizer.step()\n",
        "\n",
        "    return loss.item() / target_length"
      ],
      "execution_count": 0,
      "outputs": []
    },
    {
      "cell_type": "code",
      "metadata": {
        "id": "dY20w6FW13AH",
        "colab_type": "code",
        "colab": {}
      },
      "source": [
        "import time\n",
        "import math\n",
        "\n",
        "\n",
        "def asMinutes(s):\n",
        "    m = math.floor(s / 60)\n",
        "    s -= m * 60\n",
        "    return '%dm %ds' % (m, s)\n",
        "\n",
        "\n",
        "def timeSince(since, percent):\n",
        "    now = time.time()\n",
        "    s = now - since\n",
        "    es = s / (percent)\n",
        "    rs = es - s\n",
        "    return '%s (- %s)' % (asMinutes(s), asMinutes(rs))"
      ],
      "execution_count": 0,
      "outputs": []
    },
    {
      "cell_type": "code",
      "metadata": {
        "id": "PeQZSI-t18fi",
        "colab_type": "code",
        "colab": {}
      },
      "source": [
        "import matplotlib.pyplot as plt\n",
        "plt.switch_backend('agg')\n",
        "import matplotlib.ticker as ticker\n",
        "import numpy as np\n",
        "\n",
        "\n",
        "def showPlot(points):\n",
        "    plt.figure()\n",
        "    fig, ax = plt.subplots()\n",
        "    # this locator puts ticks at regular intervals\n",
        "    loc = ticker.MultipleLocator(base=0.2)\n",
        "    ax.yaxis.set_major_locator(loc)\n",
        "    plt.plot(points)"
      ],
      "execution_count": 0,
      "outputs": []
    },
    {
      "cell_type": "code",
      "metadata": {
        "id": "LXFDzY8Z15V9",
        "colab_type": "code",
        "colab": {}
      },
      "source": [
        "def trainIters(encoder, decoder, n_iters, print_every, plot_every,clip, learning_rate):\n",
        "    start = time.time()\n",
        "    \n",
        "    print_loss = 0  # Reset every print_every\n",
        "    plot_loss = 0  # Reset every plot_every\n",
        "\n",
        "\n",
        "    encoder_optimizer = optim.Adam(encoder.parameters(), lr=learning_rate)\n",
        "    decoder_optimizer = optim.Adam(decoder.parameters(), lr=learning_rate * decoder_learning_ratio)\n",
        "    training_pairs = [tensorsFromPair(random.choice(pairs))\n",
        "                      for i in range(n_iters)]\n",
        "    criterion = nn.NLLLoss()\n",
        "\n",
        "    for iter in range(1, n_iters + 1):\n",
        "        training_pair = training_pairs[iter - 1]\n",
        "        input_tensor = training_pair[0]\n",
        "        target_tensor = training_pair[1]\n",
        "\n",
        "        loss = train(input_tensor, target_tensor, encoder,\n",
        "                     decoder, encoder_optimizer, decoder_optimizer, criterion,clip)\n",
        "                        \n",
        "        print_loss += loss\n",
        "        plot_loss += loss\n",
        "\n",
        "        if iter % print_every == 0:\n",
        "            print_loss_avg = print_loss / print_every\n",
        "            print_loss = 0\n",
        "            print('%s (%d %d%%) %.4f' % (timeSince(start, iter / n_iters),\n",
        "                                         iter, iter / n_iters * 100, print_loss_avg))\n",
        "\n",
        "        if iter % plot_every == 0:\n",
        "            plot_loss_avg = plot_loss / plot_every\n",
        "            plot_losses.append(plot_loss_avg)\n",
        "            plot_loss = 0"
      ],
      "execution_count": 0,
      "outputs": []
    },
    {
      "cell_type": "code",
      "metadata": {
        "id": "FK43dSMO1-ei",
        "colab_type": "code",
        "colab": {}
      },
      "source": [
        "def evaluate(encoder, decoder, sentence, max_length=MAX_LENGTH):\n",
        "    with torch.no_grad():\n",
        "        input_tensor = tensorFromSentence(input_vocab, sentence)\n",
        "        input_length = input_tensor.size()[0]\n",
        "        encoder_hidden = encoder.initHidden()\n",
        "\n",
        "        encoder_outputs = torch.zeros(max_length, encoder.hidden_size, device=device)\n",
        "\n",
        "        for ei in range(input_length):\n",
        "            encoder_output, encoder_hidden = encoder(input_tensor[ei],\n",
        "                                                     encoder_hidden)\n",
        "            encoder_outputs[ei] += encoder_output[0, 0]\n",
        "\n",
        "        decoder_input = torch.tensor([[SOS_token]], device=device)  # SOS\n",
        "\n",
        "        decoder_hidden = encoder_hidden\n",
        "\n",
        "        decoded_words = []\n",
        "        decoder_attentions = torch.zeros(max_length, max_length)\n",
        "\n",
        "        for di in range(max_length):\n",
        "            decoder_output, decoder_hidden, decoder_attention = decoder(\n",
        "                decoder_input, decoder_hidden, encoder_outputs)\n",
        "            decoder_attentions[di] = decoder_attention.data\n",
        "            topv, topi = decoder_output.data.topk(1)\n",
        "            if topi.item() == EOS_token:\n",
        "                decoded_words.append('<EOS>')\n",
        "                break\n",
        "            else:\n",
        "                decoded_words.append(output_vocab.index2word[topi.item()])\n",
        "\n",
        "            decoder_input = topi.squeeze().detach()\n",
        "\n",
        "        return decoded_words, decoder_attentions[:di + 1]"
      ],
      "execution_count": 0,
      "outputs": []
    },
    {
      "cell_type": "code",
      "metadata": {
        "id": "xKIZu2qd2BXl",
        "colab_type": "code",
        "colab": {}
      },
      "source": [
        "def evaluateRandomly(encoder, decoder, n=10):\n",
        "    for i in range(n):\n",
        "        pair = random.choice(pairs)\n",
        "        print('Article:', pair[0])\n",
        "        print('Reference summary:', pair[1])\n",
        "        output_words, attentions = evaluate(encoder, decoder, pair[0])\n",
        "        output_sentence = ' '.join(output_words)\n",
        "        print('Summary:', output_sentence)\n",
        "        print('')"
      ],
      "execution_count": 0,
      "outputs": []
    },
    {
      "cell_type": "code",
      "metadata": {
        "id": "cqdcC1TO2DTG",
        "colab_type": "code",
        "outputId": "54f2ccae-98a4-4419-f9e4-4886b43bdac7",
        "colab": {
          "base_uri": "https://localhost:8080/",
          "height": 191
        }
      },
      "source": [
        "hidden_size = 300\n",
        "learning_rate = 0.001      # Learning rates 0.0005, 0.001, 0.00146    https://medium.com/octavian-ai/which-optimizer-and-learning-rate-should-i-use-for-deep-learning-5acb418f9b2\n",
        "plot_losses = []\n",
        "plot_every = 50\n",
        "print_every =100\n",
        "n_iters = 1000\n",
        "dropout = 0.5\n",
        "decoder_learning_ratio = 5.0\n",
        "clip = 5\n",
        "\n",
        "encoder1 = EncoderRNN(input_vocab.n_words, hidden_size).to(device)\n",
        "decoder1 = AttnDecoderRNN(hidden_size, output_vocab.n_words, dropout).to(device)\n",
        "trainIters(encoder1, decoder1, n_iters, print_every,plot_every,clip,learning_rate)"
      ],
      "execution_count": 28,
      "outputs": [
        {
          "output_type": "stream",
          "text": [
            "2m 23s (- 21m 31s) (100 10%) 8.2847\n",
            "4m 40s (- 18m 42s) (200 20%) 6.5303\n",
            "7m 38s (- 17m 50s) (300 30%) 6.8211\n",
            "10m 2s (- 15m 3s) (400 40%) 6.9996\n",
            "12m 8s (- 12m 8s) (500 50%) 6.5353\n",
            "14m 39s (- 9m 46s) (600 60%) 6.2928\n",
            "17m 5s (- 7m 19s) (700 70%) 6.4479\n",
            "19m 35s (- 4m 53s) (800 80%) 6.8275\n",
            "22m 10s (- 2m 27s) (900 90%) 6.9891\n",
            "24m 46s (- 0m 0s) (1000 100%) 6.2447\n"
          ],
          "name": "stdout"
        }
      ]
    },
    {
      "cell_type": "code",
      "metadata": {
        "id": "yPRvPRyS2O4L",
        "colab_type": "code",
        "outputId": "f23ebe55-8886-4f6e-c9e3-eebdd26716b2",
        "colab": {
          "base_uri": "https://localhost:8080/",
          "height": 282
        }
      },
      "source": [
        "# plotting the losses\n",
        "import matplotlib.pyplot as plt\n",
        "%matplotlib inline\n",
        "showPlot(plot_losses)"
      ],
      "execution_count": 29,
      "outputs": [
        {
          "output_type": "display_data",
          "data": {
            "text/plain": [
              "<Figure size 432x288 with 0 Axes>"
            ]
          },
          "metadata": {
            "tags": []
          }
        },
        {
          "output_type": "display_data",
          "data": {
            "image/png": "[encoded data removed]",
            "text/plain": [
              "<Figure size 432x288 with 1 Axes>"
            ]
          },
          "metadata": {
            "tags": [],
            "needs_background": "light"
          }
        }
      ]
    },
    {
      "cell_type": "code",
      "metadata": {
        "id": "5AqrOrALbIZM",
        "colab_type": "code",
        "colab": {}
      },
      "source": [
        "torch.save(encoder1.state_dict(), './enc.w')\n",
        "torch.save(decoder1.state_dict(), './dec.w')"
      ],
      "execution_count": 0,
      "outputs": []
    },
    {
      "cell_type": "code",
      "metadata": {
        "id": "YTPnl-_bAO6A",
        "colab_type": "code",
        "outputId": "432c7806-6576-4434-e13d-b948c9d719ce",
        "colab": {
          "base_uri": "https://localhost:8080/",
          "height": 176
        }
      },
      "source": [
        "evaluateRandomly(encoder1, decoder1, n=2)"
      ],
      "execution_count": 31,
      "outputs": [
        {
          "output_type": "stream",
          "text": [
            "Article: open doors offer jacket pull chair stand enters room shall love little gestures take dates never make pay split bill girls love guy takes care dinner bill like big deal force helped like tell beautiful especially least expects girls spend lot effort trying look nice make happy noticed make compliments meaningful truthful instead hair pretty try really like way hair tonight looks soft beautiful use different expressions show thoughtful ashamed compliment show affection front others real men ashamed show world found good woman girl love people talk publicly things value instantly feel like priority confident enough show world feel hold hand mall throw arm around movies whenever feels comfortable make hint ask doubts together easily fall pattern forgetting make feel special guys also deliberately ignore girlfriends way getting back way punishing let know thinking example send text thinking sure text anything might want friends family read try texting good morning short encouragement often possible girl loves know first thing boyfriend mind starts day never ignore way manipulative shall hurt immensely ignore often enough may dump leave waiting call talk problem speak argument wait hours day cool heated emotions longing one another stronger anger good chance make ready ask forgiveness even feel first keep integrity argument sides usually cause hurt one right feelings wait many days feel dumped cut emotions surprise flowers notes likes things whisk away unplanned romantic dinner day weekend take somewhere new many girls get bored take place time time mix little enjoy variety new places shall create new conversation topics memories together make sure plan anything free night day weekend know things ask schedule casual way know planning something plan b also cannot part plan way gives pleasure e g bathing involved may need know part month may reject surprise love song short poem find one really talks feelings send link share unless specifies need call back need responsive girlfriend calls let know mind even though person girls get insecure ignored confident girl happy girl happy girl good boyfriend even small gift like favorite candy bar goes long way listen tells things wants surprise time time getting something special try buy luxury buy gifts last minute invest time put thought like music scarves delicate bracelets special perfume collections wish list somewhere buy mentioned wanting anything lately perhaps could ask mom best friend advice remembering appreciates important price tag never forget important holidays anniversaries matter listen hints may dropping wants thoughtful gifts show care bring mall pay attention points get something wear every day remind much care locket picture inside awesome idea gets gift holiday get one return probably going bummed happened past make sure happen make surprise gifts gift reflect regard much appreciate ready make sacrifices also personal touch often appreciated like make custom design item talented avoid repeating gifts unless special significance like day remembrance also finds gave thing another girlfriend dislike gift use humor natural way tell corny jokes every opportunity unless likes sort thing know kind humor likes upset try cheer humor laughs something try understand share laughter show like jokes funny remarks remember girlfriend property mindful opinions desires even differ make feel stupid agree everything copy oneself boring minor disagreements give better perspective things life one may win discussion lose affection instead woman sees man cannot keep word regards safe enough serious relationship hindered keep promise warn time make afterwards sees trustworthy man broken promise often seen lie asking forgiveness better lame blaming circumstances time feel real priorities show responsibility studies work money signals possibly also could take responsibility family future irresponsible man easily seen ridiculous stable partner female friends would like girlfriend befriend want trust friendships women never compliment female friends physical attributes something positive say female friend say something personality warm friendly creative really obvious smart famous sporty etc whatever lead friend coming town really want meet shall really like gorgeous friends cannot keep eyes around conversation stops guys keep staring understand girlfriend may suspicious female friends first always uplift girlfriend knows one world eyes friendships female friends accepted much smoothly follow step avoid much contact female friends stable relationship possibly mention could good partner someone else talk female friend mentioning boyfriend husband major lies drive wedge suspicion mistrust girlfriend may never able fix may throw away whole relationship one act mistrust show trustworthy actions conversations women never border line flirtatious intimate needs know trust speech conduct even little things hard time one maybe ready relationship instead question feel need flirt women first place regard women humans potential partners relationship never tell another woman prettier asks whether another girl attractive default answer always resounding never talk find celebrity really gorgeous make feel bad resent feel need comment beauty someone like angelina jolie scarlett johansson always remind girlfriend eyes attractive open way people show trust likely trust back keep secrets show girlfriend side normally share buddies tell others private things could upset would find protect dignity relationship make sure say facebook account proud shall feel confident show family good friends serious fear might seeing girls someone hits online tell girlfriend right away keep secret already insecure hiding secret make insecurity worse avoid communicating girls e mail text social networks without letting girlfriend know flirting someone else via text message girlfriend discovers texts going furious invite take immediate look mailbox doubts must make sure even chosen leaving others girls aside probably feel someone teasing take side girls need know men backs times age old need would feel took friends friends side let know depend stick long run often man needing support life wise show readiness take bullet man bright career easily ruined woman support friends family like may eventually convince good always act like gentleman around friends family shall encourage keep going may like much make effort nice care remember names details people important never make feel like would rather friends time need friendships people besides girlfriend show happiness social life also depending strong enough support make sure strike balance keep mind could leave would better work hard keeping happy keep girlfriend make sure feels loses something great would lose want keep time start treating like gentleman expect great girl available put hobbies video games youtube music things like never listen music headphones sitting next even one earbud duty work studies disturbs explain long goes date go play games iphone text buddies things like shall think rude want spend time person would think stuff much would like around thinks spend much time less serious things assume work hard good income later financial burden instead smother girlfriend want excited time sees hears smother may become overwhelmed could ruin good relationship time everything one feels time studies work hobbies sleep wasted little things become reason strain instead joy help efficient spend relaxed quality time together whenever possible mentions something bothers change behavior gladly girls take much hurt relationship constantly hurting going lose girls take low blows boyfriends time realize find someone treat like wants treated also hurt badly tell friends change comes minor issues relationships require compromise ends willing equally content end day sometimes must take first step feels one sided one feel happy end base relationship woman may feel belittled man much give space leading position times like paying meal helping man women feel humiliated cannot invite every second third date especially cultures improved gender equality income also may want show ability free rider needing man welfare love mere benefits balance certain mutuality gives chances healthy relationship attention emotions important rigid gender roles person unique set love languages things touch heart feel loved cherished expressions perhaps excite common probably kind affirming words time priority actions service gifts physical touch really understanding remembering details told showing regard obvious faults e g flower lady mean much home cooked meal means typical man little vice versa explain love language feel bad things kind intention make excited kind massage however trump card people dislike situation appropriate perhaps starting feet less intimidating pure gesture thoughtfulness without erotic associations girls know guys show love order get sex feel used cheap perceived feels disrespected create fear heart happen never think sex making love woman make sure show love make feel fulfilled sooner later cannot resist wants show love way guy really understands\n",
            "Reference summary: treat like princess compliment pay attention spontaneous return calls texts surprise gifts make laugh respect keep promises responsible punctual maximum minutes late ever make priority keep word also people sensitive talk female friends tell truth important issues know little white lies appropriate confide good online phone etiquette defend front people make effort get along friends family balance time spent friends take granted give space willing change sensitive girlfriend date predictable treat girl predictable read emotions make nice surprises\n",
            "Summary: preheat wash wash use make time use use <EOS>\n",
            "\n",
            "Article: certain heroes neither require enhance team play suited competitive dota armlet suitable choice dps oriented strheroes carry hero privilege duty burden farm items playing carry hero farming items primary objective carry stats better else failed protecting everyone carry obligated buy wards wards placed ensure safe farming carry jungle lane last hitting means hit creep last hitting also gets carry farm faster pushing lane far case push needed hit creeps full life last hit others team fights towers fought tower certainly destroyed use care creeps attacking tower pulled behind using attack command running away creeps pulled behind spells may used necessary kill catapults care old map much matters gets kill application spell vital escape case unexpected retaliation enemy heroes spell used killing unnecessary fashion may come income boost however advantage dispelled mates fall victim counteroffensive ultimates used immediately encountering enemy many situations ultimate wasted best wait apply stun initial disable worn either dangerous weakest opponent selected target reliable escape mechanism everybody focus target something goes wrong main target inevitably get away new target selected soon possible watch teammates case\n",
            "Reference summary: know best heroes last hitting denying creeps lane obligatory goal early game gain experience money lane opponents protect carry lanes goal midgame protect carry kill team carry push towers creeps pulled onto lane save hp deny entire creepwaves enemy kill stealing advised try override duration stuns cast enemy lanes collapse try carry tpscroll times trying gang somebody main target selected\n",
            "Summary: get pain get manage manage respond live get better use use use know <EOS>\n",
            "\n"
          ],
          "name": "stdout"
        }
      ]
    },
    {
      "cell_type": "code",
      "metadata": {
        "id": "q3YjWbEge8Fh",
        "colab_type": "code",
        "colab": {}
      },
      "source": [
        ""
      ],
      "execution_count": 0,
      "outputs": []
    }
  ]
}