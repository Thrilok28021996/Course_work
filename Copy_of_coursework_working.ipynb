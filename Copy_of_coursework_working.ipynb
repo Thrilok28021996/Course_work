{
  "nbformat": 4,
  "nbformat_minor": 0,
  "metadata": {
    "kernelspec": {
      "name": "python3",
      "display_name": "Python 3"
    },
    "language_info": {
      "codemirror_mode": {
        "name": "ipython",
        "version": 3
      },
      "file_extension": ".py",
      "mimetype": "text/x-python",
      "name": "python",
      "nbconvert_exporter": "python",
      "pygments_lexer": "ipython3",
      "version": "3.6.6"
    },
    "colab": {
      "name": "Copy of coursework_working.ipynb",
      "provenance": [],
      "collapsed_sections": [],
      "machine_shape": "hm",
      "include_colab_link": true
    },
    "accelerator": "GPU"
  },
  "cells": [
    {
      "cell_type": "markdown",
      "metadata": {
        "id": "view-in-github",
        "colab_type": "text"
      },
      "source": [
        "<a href=\"https://colab.research.google.com/github/Thrilok28021996/Course_work/blob/master/Copy_of_coursework_working.ipynb\" target=\"_parent\"><img src=\"https://colab.research.google.com/assets/colab-badge.svg\" alt=\"Open In Colab\"/></a>"
      ]
    },
    {
      "cell_type": "code",
      "metadata": {
        "_cell_guid": "b1076dfc-b9ad-4769-8c92-a6c4dae69d19",
        "_uuid": "8f2839f25d086af736a60e9eeb907d3b93b6e0e5",
        "id": "RsakrWvnHmo3",
        "colab_type": "code",
        "colab": {}
      },
      "source": [
        "import numpy as np \n",
        "import pandas as pd\n",
        "import os"
      ],
      "execution_count": 0,
      "outputs": []
    },
    {
      "cell_type": "code",
      "metadata": {
        "id": "-1Xej_Q4H1K1",
        "colab_type": "code",
        "colab": {}
      },
      "source": [
        "# This code has been taken from this link https://towardsdatascience.com/3-ways-to-load-csv-files-into-colab-7c14fcbdcb92\n",
        "# For LOADING THE DATASET FROM THE GOOGLE DRIVE\n",
        "!pip install -U -q PyDrive\n",
        "from pydrive.auth import GoogleAuth\n",
        "from pydrive.drive import GoogleDrive\n",
        "from google.colab import auth\n",
        "from oauth2client.client import GoogleCredentials\n",
        "# Authenticate and create the PyDrive client.\n",
        "auth.authenticate_user()\n",
        "gauth = GoogleAuth()\n",
        "gauth.credentials = GoogleCredentials.get_application_default()\n",
        "drive = GoogleDrive(gauth)"
      ],
      "execution_count": 0,
      "outputs": []
    },
    {
      "cell_type": "code",
      "metadata": {
        "id": "DYL43vvYH9_r",
        "colab_type": "code",
        "outputId": "447e100a-6c35-476d-bd0c-79c721d97a82",
        "colab": {
          "base_uri": "https://localhost:8080/",
          "height": 34
        }
      },
      "source": [
        "link ='https://drive.google.com/open?id=1lvMoUF1YzgIEvLW13_wYy_9JR9dTmDuu'\n",
        "\n",
        "fluff, id = link.split('=')\n",
        "print (id) # Verify that you have everything after '='"
      ],
      "execution_count": 0,
      "outputs": [
        {
          "output_type": "stream",
          "text": [
            "1lvMoUF1YzgIEvLW13_wYy_9JR9dTmDuu\n"
          ],
          "name": "stdout"
        }
      ]
    },
    {
      "cell_type": "code",
      "metadata": {
        "id": "HzDlJOjNH-NL",
        "colab_type": "code",
        "outputId": "0bf4ccf7-2267-46aa-bdff-64b5fafbecf2",
        "colab": {
          "base_uri": "https://localhost:8080/",
          "height": 34
        }
      },
      "source": [
        "import pandas as pd\n",
        "downloaded = drive.CreateFile({'id':id}) \n",
        "downloaded.GetContentFile('preprocess_data.csv')  \n",
        "data = pd.read_csv('preprocess_data.csv',encoding='utf-8')\n",
        "# Dataset is now stored in a Pandas Dataframe\n",
        "print(\"Dataset is now Loaded\")"
      ],
      "execution_count": 0,
      "outputs": [
        {
          "output_type": "stream",
          "text": [
            "Dataset is now Loaded\n"
          ],
          "name": "stdout"
        }
      ]
    },
    {
      "cell_type": "code",
      "metadata": {
        "id": "qSdit6-V0qB8",
        "colab_type": "code",
        "outputId": "0a4e2bf5-fd41-4c6e-bec2-d6d77e307027",
        "colab": {
          "base_uri": "https://localhost:8080/",
          "height": 293
        }
      },
      "source": [
        "data.head()"
      ],
      "execution_count": 0,
      "outputs": [
        {
          "output_type": "execute_result",
          "data": {
            "text/html": [
              "<div>\n",
              "<style scoped>\n",
              "    .dataframe tbody tr th:only-of-type {\n",
              "        vertical-align: middle;\n",
              "    }\n",
              "\n",
              "    .dataframe tbody tr th {\n",
              "        vertical-align: top;\n",
              "    }\n",
              "\n",
              "    .dataframe thead th {\n",
              "        text-align: right;\n",
              "    }\n",
              "</style>\n",
              "<table border=\"1\" class=\"dataframe\">\n",
              "  <thead>\n",
              "    <tr style=\"text-align: right;\">\n",
              "      <th></th>\n",
              "      <th>headline</th>\n",
              "      <th>text</th>\n",
              "    </tr>\n",
              "  </thead>\n",
              "  <tbody>\n",
              "    <tr>\n",
              "      <th>0</th>\n",
              "      <td>keep related supplies area make effort clean d...</td>\n",
              "      <td>photographer keep necessary lens cords batteri...</td>\n",
              "    </tr>\n",
              "    <tr>\n",
              "      <th>1</th>\n",
              "      <td>create sketch neopoprealist manner future mura...</td>\n",
              "      <td>see image drawing develops step step however i...</td>\n",
              "    </tr>\n",
              "    <tr>\n",
              "      <th>2</th>\n",
              "      <td>get bachelor degree enroll studio based progra...</td>\n",
              "      <td>possible become vfx artist without college deg...</td>\n",
              "    </tr>\n",
              "    <tr>\n",
              "      <th>3</th>\n",
              "      <td>start experience interest art understand diffe...</td>\n",
              "      <td>best art investors research pieces art buy som...</td>\n",
              "    </tr>\n",
              "    <tr>\n",
              "      <th>4</th>\n",
              "      <td>keep reference materials sketches articles pho...</td>\n",
              "      <td>start planning project work shall likely gathe...</td>\n",
              "    </tr>\n",
              "  </tbody>\n",
              "</table>\n",
              "</div>"
            ],
            "text/plain": [
              "                                            headline                                               text\n",
              "0  keep related supplies area make effort clean d...  photographer keep necessary lens cords batteri...\n",
              "1  create sketch neopoprealist manner future mura...  see image drawing develops step step however i...\n",
              "2  get bachelor degree enroll studio based progra...  possible become vfx artist without college deg...\n",
              "3  start experience interest art understand diffe...  best art investors research pieces art buy som...\n",
              "4  keep reference materials sketches articles pho...  start planning project work shall likely gathe..."
            ]
          },
          "metadata": {
            "tags": []
          },
          "execution_count": 61
        }
      ]
    },
    {
      "cell_type": "markdown",
      "metadata": {
        "id": "wEsAWFK5Hmqy",
        "colab_type": "text"
      },
      "source": [
        "Torch Req"
      ]
    },
    {
      "cell_type": "code",
      "metadata": {
        "id": "IZMhgsE804NM",
        "colab_type": "code",
        "colab": {}
      },
      "source": [
        "x = data['text'].astype(str)\n",
        "y = data['headline'].astype(str)"
      ],
      "execution_count": 0,
      "outputs": []
    },
    {
      "cell_type": "code",
      "metadata": {
        "id": "2v2JRL29052Q",
        "colab_type": "code",
        "colab": {}
      },
      "source": [
        "from __future__ import unicode_literals, print_function, division\n",
        "from io import open\n",
        "import unicodedata\n",
        "import string\n",
        "import re\n",
        "import random\n",
        "\n",
        "import torch\n",
        "import torch.nn as nn\n",
        "from torch import optim\n",
        "import torch.nn.functional as F\n",
        "\n",
        "device = torch.device(\"cuda\" if torch.cuda.is_available() else \"cpu\")"
      ],
      "execution_count": 0,
      "outputs": []
    },
    {
      "cell_type": "code",
      "metadata": {
        "id": "Z8AVu9A008KZ",
        "colab_type": "code",
        "colab": {}
      },
      "source": [
        "SOS_token = 0\n",
        "EOS_token = 1\n",
        "\n",
        "\n",
        "class Vocab:\n",
        "    def __init__(self, name):\n",
        "        self.name = name\n",
        "        self.word2index = {}\n",
        "        self.word2count = {}\n",
        "        self.index2word = {0: \"SOS\", 1: \"EOS\"}\n",
        "        self.n_words = 2  # Count SOS and EOS\n",
        "\n",
        "    def addSentence(self, sentence):\n",
        "        for word in sentence.split(' '):\n",
        "            self.addWord(word)\n",
        "\n",
        "    def addWord(self, word):\n",
        "        if word not in self.word2index:\n",
        "            self.word2index[word] = self.n_words\n",
        "            self.word2count[word] = 1\n",
        "            self.index2word[self.n_words] = word\n",
        "            self.n_words += 1\n",
        "        else:\n",
        "            self.word2count[word] += 1"
      ],
      "execution_count": 0,
      "outputs": []
    },
    {
      "cell_type": "code",
      "metadata": {
        "id": "fW9BnXh00-bI",
        "colab_type": "code",
        "colab": {}
      },
      "source": [
        "def readVocabs(text, summary, reverse=False):\n",
        "    print(\"Reading lines...\")\n",
        "    pairs =[]\n",
        "    missing_lines = 0\n",
        "    # Split every line into pairs and normalize\n",
        "    for i in range(len(text)):\n",
        "      try:\n",
        "        pairs.append([text[i],summary[i]])\n",
        "      except:\n",
        "        missing_lines=missing_lines+1\n",
        "    # Reverse pairs, make Lang instances\n",
        "    if reverse:\n",
        "        pairs = [list(reversed(p)) for p in pairs]\n",
        "        input_vocab = Vocab(summary)\n",
        "        output_vocab = Vocab(text)\n",
        "    else:\n",
        "        input_vocab = Vocab(text)\n",
        "        output_vocab = Vocab(summary)\n",
        "    print(\"total missing indices\"+str(missing_lines))\n",
        "    return input_vocab, output_vocab, pairs"
      ],
      "execution_count": 0,
      "outputs": []
    },
    {
      "cell_type": "code",
      "metadata": {
        "id": "eEZOtWQ81ABo",
        "colab_type": "code",
        "colab": {}
      },
      "source": [
        "def prepareData(vocab1, vocab2, reverse=False):\n",
        "    input_vocab, output_vocab, pairs = readVocabs(vocab1, vocab2, reverse)\n",
        "    print(\"Read %s sentence pairs\" % len(pairs))\n",
        "    print(\"Counting words...\")\n",
        "    for pair in pairs:\n",
        "        input_vocab.addSentence(pair[0])\n",
        "        output_vocab.addSentence(pair[1])\n",
        "    print(\"Counted words:\")\n",
        "    print(input_vocab.name, input_vocab.n_words)\n",
        "    print(output_vocab.name, output_vocab.n_words)\n",
        "    return input_vocab, output_vocab, pairs"
      ],
      "execution_count": 0,
      "outputs": []
    },
    {
      "cell_type": "code",
      "metadata": {
        "id": "VIjVSA0V1Bk9",
        "colab_type": "code",
        "outputId": "855ca72e-0aa7-4faa-af37-e2142a851ac5",
        "colab": {
          "base_uri": "https://localhost:8080/",
          "height": 558
        }
      },
      "source": [
        "input_vocab, output_vocab, pairs = prepareData( x, y , False)\n",
        "print(random.choice(pairs))"
      ],
      "execution_count": 0,
      "outputs": [
        {
          "output_type": "stream",
          "text": [
            "Reading lines...\n",
            "total missing indices0\n",
            "Read 180127 sentence pairs\n",
            "Counting words...\n",
            "Counted words:\n",
            "0         photographer keep necessary lens cords batteri...\n",
            "1         see image drawing develops step step however i...\n",
            "2         possible become vfx artist without college deg...\n",
            "3         best art investors research pieces art buy som...\n",
            "4         start planning project work shall likely gathe...\n",
            "                                ...                        \n",
            "180122    name like might fiddle spelling see alternate ...\n",
            "180123    name might sound great say loud bedroom find s...\n",
            "180124    relief printing oldest traditional printing te...\n",
            "180125    intaglio italian incis ing correspondingly rev...\n",
            "180126    lithography big term often used refer many dif...\n",
            "Name: text, Length: 180127, dtype: object 152911\n",
            "0         keep related supplies area make effort clean d...\n",
            "1         create sketch neopoprealist manner future mura...\n",
            "2         get bachelor degree enroll studio based progra...\n",
            "3         start experience interest art understand diffe...\n",
            "4         keep reference materials sketches articles pho...\n",
            "                                ...                        \n",
            "180122    consider changing spelling name avoid symbols ...\n",
            "180123    try name legally change name register stage na...\n",
            "180124    understand process relief printing examine rim...\n",
            "180125    understand process intaglio printing look plat...\n",
            "180126    understand different varieties lithography mag...\n",
            "Name: headline, Length: 180127, dtype: object 64078\n",
            "['start set need know things facebook currently support metro pcs regular sms set menu way around must willing change login e mail order though said follow instructions start setting notifications facebook send confirmation text shortly may come several separate messages receive notifications via text phone things note successfully completed setup phone e mail address address need use log facebook also displayed profile change see privacy settings case want share number everyone', 'know need know send text message metro pcs phone e mail account use check e mail retrieve phone direct e mail address message sent go account settings facebook add phone direct e mail address e mail accounts received text click link inside phone added e mail list check facebook e mail settings select phone e mail default notification address']\n"
          ],
          "name": "stdout"
        }
      ]
    },
    {
      "cell_type": "code",
      "metadata": {
        "id": "obgIz4Fm9Bxy",
        "colab_type": "code",
        "colab": {}
      },
      "source": [
        "def create_lengths(text):\n",
        "    '''Create a data frame of the sentence lengths from a text'''\n",
        "    lengths = []\n",
        "    for sentence in text:\n",
        "        lengths.append(len(sentence))\n",
        "    return pd.DataFrame(lengths, columns=['counts'])"
      ],
      "execution_count": 0,
      "outputs": []
    },
    {
      "cell_type": "code",
      "metadata": {
        "id": "i-kaHBfo9B__",
        "colab_type": "code",
        "outputId": "154d187e-f7f0-46c6-aab3-651f37074413",
        "colab": {
          "base_uri": "https://localhost:8080/",
          "height": 382
        }
      },
      "source": [
        "len_summaries = create_lengths(y)\n",
        "len_articles = create_lengths(x)\n",
        "\n",
        "print(\"Summaries:\")\n",
        "print(len_summaries.describe())\n",
        "print()\n",
        "print(\"Articles:\")\n",
        "print(len_articles.describe())"
      ],
      "execution_count": 0,
      "outputs": [
        {
          "output_type": "stream",
          "text": [
            "Summaries:\n",
            "              counts\n",
            "count  180127.000000\n",
            "mean      211.691007\n",
            "std       179.585936\n",
            "min         3.000000\n",
            "25%        99.000000\n",
            "50%       156.000000\n",
            "75%       271.000000\n",
            "max     14563.000000\n",
            "\n",
            "Articles:\n",
            "              counts\n",
            "count  180127.000000\n",
            "mean     1786.784757\n",
            "std      1752.965176\n",
            "min         3.000000\n",
            "25%       719.000000\n",
            "50%      1233.000000\n",
            "75%      2121.000000\n",
            "max     48273.000000\n"
          ],
          "name": "stdout"
        }
      ]
    },
    {
      "cell_type": "code",
      "metadata": {
        "id": "jom7o6Fh9CMx",
        "colab_type": "code",
        "outputId": "5524a0d3-532e-4f37-d005-c4c4f26961fe",
        "colab": {
          "base_uri": "https://localhost:8080/",
          "height": 86
        }
      },
      "source": [
        "print(\"\\t\\t Min\\t 25%\\t Avg\\t 75%\\t Max\")\n",
        "print(\"\\nArticle\\t\\t {}\\t{}\\t{}\\t{}\\t{}\".format(np.percentile(len_articles,0),np.percentile(len_articles,25),np.percentile(len_articles,50),np.percentile(len_articles,75),np.percentile(len_articles,100)))\n",
        "print(\"Summary\\t\\t {}\\t{}\\t{}\\t{}\\t{}\".format(np.percentile(len_summaries,0),np.percentile(len_summaries,25),np.percentile(len_summaries,50),np.percentile(len_summaries,75),np.percentile(len_summaries,100)))"
      ],
      "execution_count": 0,
      "outputs": [
        {
          "output_type": "stream",
          "text": [
            "\t\t Min\t 25%\t Avg\t 75%\t Max\n",
            "\n",
            "Article\t\t 3.0\t719.0\t1233.0\t2121.0\t48273.0\n",
            "Summary\t\t 3.0\t99.0\t156.0\t271.0\t14563.0\n"
          ],
          "name": "stdout"
        }
      ]
    },
    {
      "cell_type": "code",
      "metadata": {
        "id": "gFBro9F21p-K",
        "colab_type": "code",
        "colab": {}
      },
      "source": [
        "MAX_LENGTH = 2500"
      ],
      "execution_count": 0,
      "outputs": []
    },
    {
      "cell_type": "code",
      "metadata": {
        "id": "CRQhoIHA1DHQ",
        "colab_type": "code",
        "colab": {}
      },
      "source": [
        "class EncoderRNN(nn.Module):\n",
        "    def __init__(self, input_size, hidden_size):\n",
        "        super(EncoderRNN, self).__init__()\n",
        "        self.hidden_size = hidden_size\n",
        "\n",
        "        self.embedding = nn.Embedding(input_size, hidden_size)\n",
        "        self.gru = nn.GRU(hidden_size, hidden_size)\n",
        "\n",
        "    def forward(self, input, hidden):\n",
        "        embedded = self.embedding(input).view(1, 1, -1)\n",
        "        output = embedded\n",
        "        output, hidden = self.gru(output, hidden)\n",
        "        return output, hidden\n",
        "\n",
        "    def initHidden(self):\n",
        "        return torch.zeros(1, 1, self.hidden_size, device=device)"
      ],
      "execution_count": 0,
      "outputs": []
    },
    {
      "cell_type": "code",
      "metadata": {
        "id": "Iu7j4_MZ1bw2",
        "colab_type": "code",
        "colab": {}
      },
      "source": [
        "class DecoderRNN(nn.Module):\n",
        "    def __init__(self, hidden_size, output_size):\n",
        "        super(DecoderRNN, self).__init__()\n",
        "        self.hidden_size = hidden_size\n",
        "\n",
        "        self.embedding = nn.Embedding(output_size, hidden_size)\n",
        "        self.gru = nn.GRU(hidden_size, hidden_size)\n",
        "        self.out = nn.Linear(hidden_size, output_size)\n",
        "        self.softmax = nn.LogSoftmax(dim=1)\n",
        "\n",
        "    def forward(self, input, hidden):\n",
        "        output = self.embedding(input).view(1, 1, -1)\n",
        "        output = F.relu(output)\n",
        "        output, hidden = self.gru(output, hidden)\n",
        "        output = self.softmax(self.out(output[0]))\n",
        "        return output, hidden\n",
        "\n",
        "    def initHidden(self):\n",
        "        return torch.zeros(1, 1, self.hidden_size, device=device)"
      ],
      "execution_count": 0,
      "outputs": []
    },
    {
      "cell_type": "code",
      "metadata": {
        "id": "91_T7mef1eoK",
        "colab_type": "code",
        "colab": {}
      },
      "source": [
        "class AttnDecoderRNN(nn.Module):\n",
        "    def __init__(self, hidden_size, output_size, dropout, max_length=MAX_LENGTH):\n",
        "        super(AttnDecoderRNN, self).__init__()\n",
        "        self.hidden_size = hidden_size\n",
        "        self.output_size = output_size\n",
        "        self.dropout = dropout\n",
        "        self.max_length = max_length\n",
        "\n",
        "        self.embedding = nn.Embedding(self.output_size, self.hidden_size)\n",
        "        self.attn = nn.Linear(self.hidden_size * 2, self.max_length)\n",
        "        self.attn_combine = nn.Linear(self.hidden_size * 2, self.hidden_size)\n",
        "        self.dropout = nn.Dropout(self.dropout)\n",
        "        self.gru = nn.GRU(self.hidden_size, self.hidden_size)\n",
        "        self.out = nn.Linear(self.hidden_size, self.output_size)\n",
        "\n",
        "    def forward(self, input, hidden, encoder_outputs):\n",
        "        embedded = self.embedding(input).view(1, 1, -1)\n",
        "        embedded = self.dropout(embedded)\n",
        "\n",
        "        attn_weights = F.softmax(\n",
        "            self.attn(torch.cat((embedded[0], hidden[0]), 1)), dim=1)\n",
        "        attn_applied = torch.bmm(attn_weights.unsqueeze(0),\n",
        "                                 encoder_outputs.unsqueeze(0))\n",
        "\n",
        "        output = torch.cat((embedded[0], attn_applied[0]), 1)\n",
        "        output = self.attn_combine(output).unsqueeze(0)\n",
        "\n",
        "        output = F.relu(output)\n",
        "        output, hidden = self.gru(output, hidden)\n",
        "\n",
        "        output = F.log_softmax(self.out(output[0]), dim=1)\n",
        "        return output, hidden, attn_weights\n",
        "\n",
        "    def initHidden(self):\n",
        "        return torch.zeros(1, 1, self.hidden_size, device=device)"
      ],
      "execution_count": 0,
      "outputs": []
    },
    {
      "cell_type": "code",
      "metadata": {
        "id": "42gunFLZ1wPy",
        "colab_type": "code",
        "colab": {}
      },
      "source": [
        "def indexesFromSentence(vocab, sentence):\n",
        "    return [vocab.word2index[word] for word in sentence.split(' ')]\n",
        "\n",
        "\n",
        "def tensorFromSentence(vocab, sentence):\n",
        "    indexes = indexesFromSentence(vocab, sentence)\n",
        "    indexes.append(EOS_token)\n",
        "    return torch.tensor(indexes, dtype=torch.long, device=device).view(-1, 1)\n",
        "\n",
        "\n",
        "def tensorsFromPair(pair):\n",
        "    input_tensor = tensorFromSentence(input_vocab, pair[0])\n",
        "    target_tensor = tensorFromSentence(output_vocab, pair[1])\n",
        "    return (input_tensor, target_tensor)"
      ],
      "execution_count": 0,
      "outputs": []
    },
    {
      "cell_type": "code",
      "metadata": {
        "id": "kB7Jet6J1ya2",
        "colab_type": "code",
        "colab": {}
      },
      "source": [
        "teacher_forcing_ratio = 0.5\n",
        "\n",
        "\n",
        "def train(input_tensor, target_tensor, encoder, decoder, encoder_optimizer, decoder_optimizer, criterion, max_length=MAX_LENGTH):\n",
        "    encoder_hidden = encoder.initHidden()\n",
        "\n",
        "    encoder_optimizer.zero_grad()\n",
        "    decoder_optimizer.zero_grad()\n",
        "\n",
        "    input_length = input_tensor.size(0)\n",
        "    target_length = target_tensor.size(0)\n",
        "\n",
        "    encoder_outputs = torch.zeros(max_length, encoder.hidden_size, device=device)\n",
        "\n",
        "    \n",
        "    loss = 0\n",
        "    \n",
        "\n",
        "    for ei in range(input_length):\n",
        "        encoder_output, encoder_hidden = encoder(\n",
        "            input_tensor[ei], encoder_hidden)\n",
        "             \n",
        "        if ei < max_length:\n",
        "          encoder_outputs[ei] = encoder_output[0, 0]\n",
        "\n",
        "      \n",
        "\n",
        "    decoder_input = torch.tensor([[SOS_token]], device=device)\n",
        "\n",
        "    decoder_hidden = encoder_hidden\n",
        "\n",
        "    use_teacher_forcing = True if random.random() < teacher_forcing_ratio else False\n",
        "\n",
        "    if use_teacher_forcing:\n",
        "        # Teacher forcing: Feed the target as the next input\n",
        "        for di in range(target_length):\n",
        "            decoder_output, decoder_hidden, decoder_attention = decoder(\n",
        "                decoder_input, decoder_hidden, encoder_outputs)\n",
        "            loss += criterion(decoder_output, target_tensor[di])\n",
        "            decoder_input = target_tensor[di]  # Teacher forcing\n",
        "\n",
        "    else:\n",
        "        # Without teacher forcing: use its own predictions as the next input\n",
        "        for di in range(target_length):\n",
        "            decoder_output, decoder_hidden, decoder_attention = decoder(\n",
        "                decoder_input, decoder_hidden, encoder_outputs)\n",
        "            topv, topi = decoder_output.topk(1)\n",
        "            decoder_input = topi.squeeze().detach()  # detach from history as input\n",
        "\n",
        "            loss += criterion(decoder_output, target_tensor[di])\n",
        "            if decoder_input.item() == EOS_token:\n",
        "                break\n",
        "\n",
        "    loss.backward()\n",
        "\n",
        "    encoder_optimizer.step()\n",
        "    decoder_optimizer.step()\n",
        "\n",
        "    return loss.item() / target_length"
      ],
      "execution_count": 0,
      "outputs": []
    },
    {
      "cell_type": "code",
      "metadata": {
        "id": "dY20w6FW13AH",
        "colab_type": "code",
        "colab": {}
      },
      "source": [
        "import time\n",
        "import math\n",
        "\n",
        "\n",
        "def asMinutes(s):\n",
        "    m = math.floor(s / 60)\n",
        "    s -= m * 60\n",
        "    return '%dm %ds' % (m, s)\n",
        "\n",
        "\n",
        "def timeSince(since, percent):\n",
        "    now = time.time()\n",
        "    s = now - since\n",
        "    es = s / (percent)\n",
        "    rs = es - s\n",
        "    return '%s (- %s)' % (asMinutes(s), asMinutes(rs))"
      ],
      "execution_count": 0,
      "outputs": []
    },
    {
      "cell_type": "code",
      "metadata": {
        "id": "PeQZSI-t18fi",
        "colab_type": "code",
        "colab": {}
      },
      "source": [
        "import matplotlib.pyplot as plt\n",
        "plt.switch_backend('agg')\n",
        "import matplotlib.ticker as ticker\n",
        "import numpy as np\n",
        "\n",
        "\n",
        "def showPlot(points):\n",
        "    plt.figure()\n",
        "    fig, ax = plt.subplots()\n",
        "    # this locator puts ticks at regular intervals\n",
        "    loc = ticker.MultipleLocator(base=0.2)\n",
        "    ax.yaxis.set_major_locator(loc)\n",
        "    plt.plot(points)"
      ],
      "execution_count": 0,
      "outputs": []
    },
    {
      "cell_type": "code",
      "metadata": {
        "id": "LXFDzY8Z15V9",
        "colab_type": "code",
        "colab": {}
      },
      "source": [
        "def trainIters(encoder, decoder, n_iters, print_every, plot_every, learning_rate):\n",
        "    start = time.time()\n",
        "    \n",
        "    print_loss = 0  # Reset every print_every\n",
        "    plot_loss = 0  # Reset every plot_every\n",
        "\n",
        "\n",
        "    encoder_optimizer = optim.Adam(encoder.parameters(), lr=learning_rate)\n",
        "    decoder_optimizer = optim.Adam(decoder.parameters(), lr=learning_rate * decoder_learning_ratio)\n",
        "    training_pairs = [tensorsFromPair(random.choice(pairs))\n",
        "                      for i in range(n_iters)]\n",
        "    criterion = nn.NLLLoss()\n",
        "\n",
        "    for iter in range(1, n_iters + 1):\n",
        "        training_pair = training_pairs[iter - 1]\n",
        "        input_tensor = training_pair[0]\n",
        "        target_tensor = training_pair[1]\n",
        "\n",
        "        loss = train(input_tensor, target_tensor, encoder,\n",
        "                     decoder, encoder_optimizer, decoder_optimizer, criterion)\n",
        "        print_loss += loss\n",
        "        plot_loss += loss\n",
        "\n",
        "        if iter % print_every == 0:\n",
        "            print_loss_avg = print_loss / print_every\n",
        "            print_loss = 0\n",
        "            print('%s (%d %d%%) %.4f' % (timeSince(start, iter / n_iters),\n",
        "                                         iter, iter / n_iters * 100, print_loss_avg))\n",
        "\n",
        "        if iter % plot_every == 0:\n",
        "            plot_loss_avg = plot_loss / plot_every\n",
        "            plot_losses.append(plot_loss_avg)\n",
        "            plot_loss = 0"
      ],
      "execution_count": 0,
      "outputs": []
    },
    {
      "cell_type": "code",
      "metadata": {
        "id": "FK43dSMO1-ei",
        "colab_type": "code",
        "colab": {}
      },
      "source": [
        "def evaluate(encoder, decoder, sentence, max_length=MAX_LENGTH):\n",
        "    with torch.no_grad():\n",
        "        input_tensor = tensorFromSentence(input_vocab, sentence)\n",
        "        input_length = input_tensor.size()[0]\n",
        "        encoder_hidden = encoder.initHidden()\n",
        "\n",
        "        encoder_outputs = torch.zeros(max_length, encoder.hidden_size, device=device)\n",
        "\n",
        "        for ei in range(input_length):\n",
        "            encoder_output, encoder_hidden = encoder(input_tensor[ei],\n",
        "                                                     encoder_hidden)\n",
        "            encoder_outputs[ei] += encoder_output[0, 0]\n",
        "\n",
        "        decoder_input = torch.tensor([[SOS_token]], device=device)  # SOS\n",
        "\n",
        "        decoder_hidden = encoder_hidden\n",
        "\n",
        "        decoded_words = []\n",
        "        decoder_attentions = torch.zeros(max_length, max_length)\n",
        "\n",
        "        for di in range(max_length):\n",
        "            decoder_output, decoder_hidden, decoder_attention = decoder(\n",
        "                decoder_input, decoder_hidden, encoder_outputs)\n",
        "            decoder_attentions[di] = decoder_attention.data\n",
        "            topv, topi = decoder_output.data.topk(1)\n",
        "            if topi.item() == EOS_token:\n",
        "                decoded_words.append('<EOS>')\n",
        "                break\n",
        "            else:\n",
        "                decoded_words.append(output_vocab.index2word[topi.item()])\n",
        "\n",
        "            decoder_input = topi.squeeze().detach()\n",
        "\n",
        "        return decoded_words, decoder_attentions[:di + 1]"
      ],
      "execution_count": 0,
      "outputs": []
    },
    {
      "cell_type": "code",
      "metadata": {
        "id": "xKIZu2qd2BXl",
        "colab_type": "code",
        "colab": {}
      },
      "source": [
        "def evaluateRandomly(encoder, decoder, n=10):\n",
        "    for i in range(n):\n",
        "        pair = random.choice(pairs)\n",
        "        print('Article:', pair[0])\n",
        "        print('Reference summary:', pair[1])\n",
        "        output_words, attentions = evaluate(encoder, decoder, pair[0])\n",
        "        output_sentence = ' '.join(output_words)\n",
        "        print('Summary:', output_sentence)\n",
        "        print('')"
      ],
      "execution_count": 0,
      "outputs": []
    },
    {
      "cell_type": "code",
      "metadata": {
        "id": "cqdcC1TO2DTG",
        "colab_type": "code",
        "outputId": "48b03e3e-ce7c-47c2-e831-be529125ce83",
        "colab": {
          "base_uri": "https://localhost:8080/",
          "height": 191
        }
      },
      "source": [
        "hidden_size = 300\n",
        "learning_rate = 0.001      # Learning rates 0.0005, 0.001, 0.00146    https://medium.com/octavian-ai/which-optimizer-and-learning-rate-should-i-use-for-deep-learning-5acb418f9b2\n",
        "plot_losses = []\n",
        "plot_every = 50\n",
        "print_every =100\n",
        "n_iters = 1000\n",
        "dropout = 0.5\n",
        "decoder_learning_ratio = 5.0\n",
        "\n",
        "encoder1 = EncoderRNN(input_vocab.n_words, hidden_size).to(device)\n",
        "decoder1 = AttnDecoderRNN(hidden_size, output_vocab.n_words, dropout).to(device)\n",
        "trainIters(encoder1, decoder1, n_iters, print_every,plot_every,learning_rate)"
      ],
      "execution_count": 0,
      "outputs": [
        {
          "output_type": "stream",
          "text": [
            "0m 52s (- 7m 51s) (100 10%) 9.3666\n",
            "1m 55s (- 7m 43s) (200 20%) 9.5024\n",
            "2m 57s (- 6m 53s) (300 30%) 8.2707\n",
            "3m 52s (- 5m 49s) (400 40%) 7.4696\n",
            "4m 50s (- 4m 50s) (500 50%) 7.5692\n",
            "5m 45s (- 3m 50s) (600 60%) 6.9664\n",
            "6m 48s (- 2m 55s) (700 70%) 7.2128\n",
            "7m 47s (- 1m 56s) (800 80%) 7.1252\n",
            "8m 42s (- 0m 58s) (900 90%) 6.3017\n",
            "9m 40s (- 0m 0s) (1000 100%) 5.5597\n"
          ],
          "name": "stdout"
        }
      ]
    },
    {
      "cell_type": "code",
      "metadata": {
        "id": "yPRvPRyS2O4L",
        "colab_type": "code",
        "outputId": "aa3297e6-c8e0-47de-a0c3-23a3a2ea522c",
        "colab": {
          "base_uri": "https://localhost:8080/",
          "height": 285
        }
      },
      "source": [
        "# plotting the losses\n",
        "import matplotlib.pyplot as plt\n",
        "%matplotlib inline\n",
        "showPlot(plot_losses)"
      ],
      "execution_count": 0,
      "outputs": [
        {
          "output_type": "display_data",
          "data": {
            "text/plain": [
              "<Figure size 432x288 with 0 Axes>"
            ]
          },
          "metadata": {
            "tags": []
          }
        },
        {
          "output_type": "display_data",
          "data": {
            "image/png": "[encoded data removed]",
            "text/plain": [
              "<Figure size 432x288 with 1 Axes>"
            ]
          },
          "metadata": {
            "tags": [],
            "needs_background": "light"
          }
        }
      ]
    },
    {
      "cell_type": "code",
      "metadata": {
        "id": "5AqrOrALbIZM",
        "colab_type": "code",
        "colab": {}
      },
      "source": [
        "torch.save(encoder1.state_dict(), './enc.w')\n",
        "torch.save(decoder1.state_dict(), './dec.w')"
      ],
      "execution_count": 0,
      "outputs": []
    },
    {
      "cell_type": "code",
      "metadata": {
        "id": "YTPnl-_bAO6A",
        "colab_type": "code",
        "outputId": "391038d8-d7e8-4748-94a6-0925b55b3586",
        "colab": {
          "base_uri": "https://localhost:8080/",
          "height": 176
        }
      },
      "source": [
        "evaluateRandomly(encoder1, decoder1, n=2)"
      ],
      "execution_count": 0,
      "outputs": [
        {
          "output_type": "stream",
          "text": [
            "Article: work try bringing foaming body wash gym vigorous workout use foaming body wash gym shower pleasant scent leave skin feeling fresh hydrated also giving fresh scent however keep mind people irritated fragrant body wash products stop using scented body wash notice irritation body wash safe use face wash face end day moisturizing body washes leave face feeling smooth refreshed moisturized existing routine keep acne away works avoid washing face foaming body wash face new cleansers affect skin care regimen wiping things like counters sinks regular cleaner wipe scented foaming body wash leave counters nice scent giving kitchen fresh smell cleaning\n",
            "Reference summary: use scented body wash workout wash face foaming body wash use cleaner\n",
            "Summary: understand speech <EOS>\n",
            "\n",
            "Article: includes limited underarms genital area toes etc live hot climate prone sweating may need task several times day prevent yeast growth materials allow skin breathe help draw moisture away skin wet swimsuits damp clothing allow water sit skin also lead yeast problems sure dry skin towel putting dry change clothes though diapers designed wick moisture away skin even tiniest amounts make rash worse oftentimes unnecessary body natural cleansing process harsh chemicals feminine hygiene washes douches upset ph balance increase chances yeast growth additives irritate sensitive skin inhibit ability fight infections often referred good bacteria cultures yogurt fight bacteria causes yeast infections look label yogurt ensure live bacteria variety generally bad health waistline key ingredient yeast needs grow\n",
            "Reference summary: wash thoroughly dry every area skin folds together make sure use clean towel choose natural materials cotton linen clothing wherever possible particular undergarments change wet clothes quickly possible change diapers frequently affliction happens infant use diaper rash cream avoid douche products females consider using products like toilet paper deodorant free chemicals dyes fragrances eat yogurt contains live bacteria eliminate sugar wherever possible diet read labels toiletries use avoid ingredients likely cause problems animal extracts raise sugar levels body promote yeast growth\n",
            "Summary: find <EOS>\n",
            "\n"
          ],
          "name": "stdout"
        }
      ]
    },
    {
      "cell_type": "code",
      "metadata": {
        "id": "q3YjWbEge8Fh",
        "colab_type": "code",
        "colab": {}
      },
      "source": [
        ""
      ],
      "execution_count": 0,
      "outputs": []
    }
  ]
}