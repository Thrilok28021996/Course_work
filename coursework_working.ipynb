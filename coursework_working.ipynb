{
  "nbformat": 4,
  "nbformat_minor": 0,
  "metadata": {
    "kernelspec": {
      "name": "python3",
      "display_name": "Python 3"
    },
    "language_info": {
      "codemirror_mode": {
        "name": "ipython",
        "version": 3
      },
      "file_extension": ".py",
      "mimetype": "text/x-python",
      "name": "python",
      "nbconvert_exporter": "python",
      "pygments_lexer": "ipython3",
      "version": "3.6.6"
    },
    "colab": {
      "name": "coursework_working.ipynb",
      "provenance": [],
      "collapsed_sections": [],
      "machine_shape": "hm",
      "include_colab_link": true
    },
    "accelerator": "GPU"
  },
  "cells": [
    {
      "cell_type": "markdown",
      "metadata": {
        "id": "view-in-github",
        "colab_type": "text"
      },
      "source": [
        "<a href=\"https://colab.research.google.com/github/Thrilok28021996/Course_work/blob/master/coursework_working.ipynb\" target=\"_parent\"><img src=\"https://colab.research.google.com/assets/colab-badge.svg\" alt=\"Open In Colab\"/></a>"
      ]
    },
    {
      "cell_type": "code",
      "metadata": {
        "_cell_guid": "b1076dfc-b9ad-4769-8c92-a6c4dae69d19",
        "_uuid": "8f2839f25d086af736a60e9eeb907d3b93b6e0e5",
        "id": "RsakrWvnHmo3",
        "colab_type": "code",
        "colab": {}
      },
      "source": [
        "import numpy as np \n",
        "import pandas as pd\n",
        "import os"
      ],
      "execution_count": 0,
      "outputs": []
    },
    {
      "cell_type": "code",
      "metadata": {
        "id": "-1Xej_Q4H1K1",
        "colab_type": "code",
        "colab": {}
      },
      "source": [
        "# This code has been taken from this link https://towardsdatascience.com/3-ways-to-load-csv-files-into-colab-7c14fcbdcb92\n",
        "# For LOADING THE DATASET FROM THE GOOGLE DRIVE\n",
        "!pip install -U -q PyDrive\n",
        "from pydrive.auth import GoogleAuth\n",
        "from pydrive.drive import GoogleDrive\n",
        "from google.colab import auth\n",
        "from oauth2client.client import GoogleCredentials\n",
        "# Authenticate and create the PyDrive client.\n",
        "auth.authenticate_user()\n",
        "gauth = GoogleAuth()\n",
        "gauth.credentials = GoogleCredentials.get_application_default()\n",
        "drive = GoogleDrive(gauth)"
      ],
      "execution_count": 0,
      "outputs": []
    },
    {
      "cell_type": "code",
      "metadata": {
        "id": "DYL43vvYH9_r",
        "colab_type": "code",
        "outputId": "047499a3-1322-4cd0-d85a-9c18431134ae",
        "colab": {
          "base_uri": "https://localhost:8080/",
          "height": 34
        }
      },
      "source": [
        "link ='https://drive.google.com/open?id=1lvMoUF1YzgIEvLW13_wYy_9JR9dTmDuu'\n",
        "\n",
        "fluff, id = link.split('=')\n",
        "print (id) # Verify that you have everything after '='"
      ],
      "execution_count": 68,
      "outputs": [
        {
          "output_type": "stream",
          "text": [
            "1lvMoUF1YzgIEvLW13_wYy_9JR9dTmDuu\n"
          ],
          "name": "stdout"
        }
      ]
    },
    {
      "cell_type": "code",
      "metadata": {
        "id": "HzDlJOjNH-NL",
        "colab_type": "code",
        "outputId": "5388aa0d-eba7-426f-a0cc-178f169ca232",
        "colab": {
          "base_uri": "https://localhost:8080/",
          "height": 34
        }
      },
      "source": [
        "import pandas as pd\n",
        "downloaded = drive.CreateFile({'id':id}) \n",
        "downloaded.GetContentFile('preprocess_data.csv')  \n",
        "data = pd.read_csv('preprocess_data.csv',encoding='utf-8')\n",
        "# Dataset is now stored in a Pandas Dataframe\n",
        "print(\"Dataset is now Loaded\")"
      ],
      "execution_count": 69,
      "outputs": [
        {
          "output_type": "stream",
          "text": [
            "Dataset is now Loaded\n"
          ],
          "name": "stdout"
        }
      ]
    },
    {
      "cell_type": "code",
      "metadata": {
        "id": "qSdit6-V0qB8",
        "colab_type": "code",
        "outputId": "f180eab1-3be8-4bcb-c4cd-b73e24ff6ba6",
        "colab": {
          "base_uri": "https://localhost:8080/",
          "height": 293
        }
      },
      "source": [
        "data.head()"
      ],
      "execution_count": 70,
      "outputs": [
        {
          "output_type": "execute_result",
          "data": {
            "text/html": [
              "<div>\n",
              "<style scoped>\n",
              "    .dataframe tbody tr th:only-of-type {\n",
              "        vertical-align: middle;\n",
              "    }\n",
              "\n",
              "    .dataframe tbody tr th {\n",
              "        vertical-align: top;\n",
              "    }\n",
              "\n",
              "    .dataframe thead th {\n",
              "        text-align: right;\n",
              "    }\n",
              "</style>\n",
              "<table border=\"1\" class=\"dataframe\">\n",
              "  <thead>\n",
              "    <tr style=\"text-align: right;\">\n",
              "      <th></th>\n",
              "      <th>headline</th>\n",
              "      <th>text</th>\n",
              "    </tr>\n",
              "  </thead>\n",
              "  <tbody>\n",
              "    <tr>\n",
              "      <th>0</th>\n",
              "      <td>keep related supplies area make effort clean d...</td>\n",
              "      <td>photographer keep necessary lens cords batteri...</td>\n",
              "    </tr>\n",
              "    <tr>\n",
              "      <th>1</th>\n",
              "      <td>create sketch neopoprealist manner future mura...</td>\n",
              "      <td>see image drawing develops step step however i...</td>\n",
              "    </tr>\n",
              "    <tr>\n",
              "      <th>2</th>\n",
              "      <td>get bachelor degree enroll studio based progra...</td>\n",
              "      <td>possible become vfx artist without college deg...</td>\n",
              "    </tr>\n",
              "    <tr>\n",
              "      <th>3</th>\n",
              "      <td>start experience interest art understand diffe...</td>\n",
              "      <td>best art investors research pieces art buy som...</td>\n",
              "    </tr>\n",
              "    <tr>\n",
              "      <th>4</th>\n",
              "      <td>keep reference materials sketches articles pho...</td>\n",
              "      <td>start planning project work shall likely gathe...</td>\n",
              "    </tr>\n",
              "  </tbody>\n",
              "</table>\n",
              "</div>"
            ],
            "text/plain": [
              "                                            headline                                               text\n",
              "0  keep related supplies area make effort clean d...  photographer keep necessary lens cords batteri...\n",
              "1  create sketch neopoprealist manner future mura...  see image drawing develops step step however i...\n",
              "2  get bachelor degree enroll studio based progra...  possible become vfx artist without college deg...\n",
              "3  start experience interest art understand diffe...  best art investors research pieces art buy som...\n",
              "4  keep reference materials sketches articles pho...  start planning project work shall likely gathe..."
            ]
          },
          "metadata": {
            "tags": []
          },
          "execution_count": 70
        }
      ]
    },
    {
      "cell_type": "markdown",
      "metadata": {
        "id": "wEsAWFK5Hmqy",
        "colab_type": "text"
      },
      "source": [
        "Torch Req"
      ]
    },
    {
      "cell_type": "code",
      "metadata": {
        "id": "IZMhgsE804NM",
        "colab_type": "code",
        "colab": {}
      },
      "source": [
        "x = data['text'].astype(str)\n",
        "y = data['headline'].astype(str)"
      ],
      "execution_count": 0,
      "outputs": []
    },
    {
      "cell_type": "code",
      "metadata": {
        "id": "2v2JRL29052Q",
        "colab_type": "code",
        "colab": {}
      },
      "source": [
        "from __future__ import unicode_literals, print_function, division\n",
        "from io import open\n",
        "import unicodedata\n",
        "import string\n",
        "import re\n",
        "import random\n",
        "\n",
        "import torch\n",
        "import torch.nn as nn\n",
        "from torch import optim\n",
        "import torch.nn.functional as F\n",
        "\n",
        "device = torch.device(\"cuda\" if torch.cuda.is_available() else \"cpu\")"
      ],
      "execution_count": 0,
      "outputs": []
    },
    {
      "cell_type": "code",
      "metadata": {
        "id": "Z8AVu9A008KZ",
        "colab_type": "code",
        "colab": {}
      },
      "source": [
        "SOS_token = 0\n",
        "EOS_token = 1\n",
        "\n",
        "\n",
        "class Lang:\n",
        "    def __init__(self, name):\n",
        "        self.name = name\n",
        "        self.word2index = {}\n",
        "        self.word2count = {}\n",
        "        self.index2word = {0: \"SOS\", 1: \"EOS\"}\n",
        "        self.n_words = 2  # Count SOS and EOS\n",
        "\n",
        "    def addSentence(self, sentence):\n",
        "        for word in sentence.split(' '):\n",
        "            self.addWord(word)\n",
        "\n",
        "    def addWord(self, word):\n",
        "        if word not in self.word2index:\n",
        "            self.word2index[word] = self.n_words\n",
        "            self.word2count[word] = 1\n",
        "            self.index2word[self.n_words] = word\n",
        "            self.n_words += 1\n",
        "        else:\n",
        "            self.word2count[word] += 1"
      ],
      "execution_count": 0,
      "outputs": []
    },
    {
      "cell_type": "code",
      "metadata": {
        "id": "fW9BnXh00-bI",
        "colab_type": "code",
        "colab": {}
      },
      "source": [
        "def readLangs(text, summary, reverse=False):\n",
        "    print(\"Reading lines...\")\n",
        "    pairs =[]\n",
        "    missing_lines = 0\n",
        "    # Split every line into pairs and normalize\n",
        "    for i in range(len(text)):\n",
        "      try:\n",
        "        pairs.append([text[i],summary[i]])\n",
        "      except:\n",
        "        missing_lines=missing_lines+1\n",
        "    # Reverse pairs, make Lang instances\n",
        "    if reverse:\n",
        "        pairs = [list(reversed(p)) for p in pairs]\n",
        "        input_lang = Lang(summary)\n",
        "        output_lang = Lang(text)\n",
        "    else:\n",
        "        input_lang = Lang(text)\n",
        "        output_lang = Lang(summary)\n",
        "    print(\"total missing indices\"+str(missing_lines))\n",
        "    return input_lang, output_lang, pairs"
      ],
      "execution_count": 0,
      "outputs": []
    },
    {
      "cell_type": "code",
      "metadata": {
        "id": "eEZOtWQ81ABo",
        "colab_type": "code",
        "colab": {}
      },
      "source": [
        "def prepareData(lang1, lang2, reverse=False):\n",
        "    input_lang, output_lang, pairs = readLangs(lang1, lang2, reverse)\n",
        "    print(\"Read %s sentence pairs\" % len(pairs))\n",
        "    print(\"Counting words...\")\n",
        "    for pair in pairs:\n",
        "        input_lang.addSentence(pair[0])\n",
        "        output_lang.addSentence(pair[1])\n",
        "    print(\"Counted words:\")\n",
        "    print(input_lang.name, input_lang.n_words)\n",
        "    print(output_lang.name, output_lang.n_words)\n",
        "    return input_lang, output_lang, pairs"
      ],
      "execution_count": 0,
      "outputs": []
    },
    {
      "cell_type": "code",
      "metadata": {
        "id": "VIjVSA0V1Bk9",
        "colab_type": "code",
        "outputId": "f4a574f6-5d4e-4806-ddf5-8cc51cbbd270",
        "colab": {
          "base_uri": "https://localhost:8080/",
          "height": 558
        }
      },
      "source": [
        "input_lang, output_lang, pairs = prepareData( x, y , False)\n",
        "print(random.choice(pairs))"
      ],
      "execution_count": 76,
      "outputs": [
        {
          "output_type": "stream",
          "text": [
            "Reading lines...\n",
            "total missing indices0\n",
            "Read 180127 sentence pairs\n",
            "Counting words...\n",
            "Counted words:\n",
            "0         photographer keep necessary lens cords batteri...\n",
            "1         see image drawing develops step step however i...\n",
            "2         possible become vfx artist without college deg...\n",
            "3         best art investors research pieces art buy som...\n",
            "4         start planning project work shall likely gathe...\n",
            "                                ...                        \n",
            "180122    name like might fiddle spelling see alternate ...\n",
            "180123    name might sound great say loud bedroom find s...\n",
            "180124    relief printing oldest traditional printing te...\n",
            "180125    intaglio italian incis ing correspondingly rev...\n",
            "180126    lithography big term often used refer many dif...\n",
            "Name: text, Length: 180127, dtype: object 152911\n",
            "0         keep related supplies area make effort clean d...\n",
            "1         create sketch neopoprealist manner future mura...\n",
            "2         get bachelor degree enroll studio based progra...\n",
            "3         start experience interest art understand diffe...\n",
            "4         keep reference materials sketches articles pho...\n",
            "                                ...                        \n",
            "180122    consider changing spelling name avoid symbols ...\n",
            "180123    try name legally change name register stage na...\n",
            "180124    understand process relief printing examine rim...\n",
            "180125    understand process intaglio printing look plat...\n",
            "180126    understand different varieties lithography mag...\n",
            "Name: headline, Length: 180127, dtype: object 64078\n",
            "['reading one best ways interesting person read regular basis nuanced understanding world around provide say sharpen opinions increase intelligence develop personality making stand read books variety genres strive fiction nonfiction poetry types books make time read every day find ways incorporate reading daily schedule long commute example read train interesting people tend lot going hobbies passions interests interesting others help develop unique personality try something always interested never done join cooking painting class sign local sports team go hiking weekends trying new things expand horizon give talk also may interact others trying new things helping develop social skills learning lifelong project interesting people never stop learning always lookout learn improve overall understanding world read news whether read online news sources magazines newspapers understanding going world increase understanding embrace learning work view every day job opportunity learn new skill discover personal insight variety experiences help interesting also develop personality making stand others open exploring new things whether new ideas places experiences try go place never every week challenge opinions interested particular topic read variety opinions insights subject hard completely revamp personality however work recognizing best qualities find ways make qualities stand write positive qualities think like others seem like think ways make qualities apparent make something like good sense humor stand try making jokes often make generosity stand always bring snacks drinks social events opinions make interesting force opinions others people drawn strong opinions variety topics order stand work considering opinions variety issues get informed news spend time reading current cultural events addition reading plain facts read opinion pieces see sides issue develop informed opinion hide uncommon opinions opinion matter differs norm need conceal people actually interested non conventional opinions really help stand many people strive fit covering quirks odd qualities order make personality stand embrace think strange unconventional things try allow others see without sense shame like everyone else unlikely stand keep mind embrace quirks people may say enjoy collecting old bottle caps something makes interesting share quirkiness others people ask hobbies interests open hold back discussing unique self even hobbies interests conventional want make sure coming right way many people stand always positive reasons work developing personality always open feedback criticism someone lets know something bother others listen dismiss feedback important unique want hog attention alienating get feedback work right away help keep personality right track shall develop unique likable personality many ways important member group probably already natural role within groups engage role may someone center attention times role important nonetheless think role group try proud contribution example might type person quiet time says insightful funny things whenever speak might member group others look direction keep everyone track still another role might supporter might one encourages people within group helps feel comfortable developed opinions assertive express simply agree arguments discussions stand crowd feel free express opinion discussing issues like politics current events make people notice remember respectful voicing opinion stand argumentative may positive manner phrase opinion beginning something like see saying actually disagree remember needs feelings matter work willing express assertive also remind okay say try practice saying situations low stakes example member group asks everyone like idea ordering pizza lunch might say something like actually would like something light lunch restaurant ordering salads people want around fun necessarily life every party especially goes nature try laugh loosen public make stand fun interesting person around try go flow social events whole gang going bar feeling protest might good time allow humor come crack jokes even seem stupid silly shall stand crowd way never shy expressing interests someone asks hobbies passions feel free share even someone necessarily know lot particular interest passionate something make someone interested talk interests unique example maybe expert french history talk someone new book french history reading make sure however go overboard watch social cues someone getting bored checking phone eyes wandering lot unique interesting experiences feel free share stories others love experiencing life vicariously share amusing anecdotes stories travel unique stories however make sure dominate conversation share stories relevant try keep conversations brief', 'read engage hobbies embrace learning open exploration recognize positive qualities develop opinions hide quirks accept feedback recognize unique role group express opinions fun use humor talk interests share stories']\n"
          ],
          "name": "stdout"
        }
      ]
    },
    {
      "cell_type": "code",
      "metadata": {
        "id": "obgIz4Fm9Bxy",
        "colab_type": "code",
        "colab": {}
      },
      "source": [
        "def create_lengths(text):\n",
        "    '''Create a data frame of the sentence lengths from a text'''\n",
        "    lengths = []\n",
        "    for sentence in text:\n",
        "        lengths.append(len(sentence))\n",
        "    return pd.DataFrame(lengths, columns=['counts'])"
      ],
      "execution_count": 0,
      "outputs": []
    },
    {
      "cell_type": "code",
      "metadata": {
        "id": "i-kaHBfo9B__",
        "colab_type": "code",
        "colab": {
          "base_uri": "https://localhost:8080/",
          "height": 382
        },
        "outputId": "49824d31-fee5-456f-a8b8-94f533e44fec"
      },
      "source": [
        "len_summaries = create_lengths(y)\n",
        "len_articles = create_lengths(x)\n",
        "\n",
        "print(\"Summaries:\")\n",
        "print(len_summaries.describe())\n",
        "print()\n",
        "print(\"Articles:\")\n",
        "print(len_articles.describe())"
      ],
      "execution_count": 78,
      "outputs": [
        {
          "output_type": "stream",
          "text": [
            "Summaries:\n",
            "              counts\n",
            "count  180127.000000\n",
            "mean      211.691007\n",
            "std       179.585936\n",
            "min         3.000000\n",
            "25%        99.000000\n",
            "50%       156.000000\n",
            "75%       271.000000\n",
            "max     14563.000000\n",
            "\n",
            "Articles:\n",
            "              counts\n",
            "count  180127.000000\n",
            "mean     1786.784757\n",
            "std      1752.965176\n",
            "min         3.000000\n",
            "25%       719.000000\n",
            "50%      1233.000000\n",
            "75%      2121.000000\n",
            "max     48273.000000\n"
          ],
          "name": "stdout"
        }
      ]
    },
    {
      "cell_type": "code",
      "metadata": {
        "id": "jom7o6Fh9CMx",
        "colab_type": "code",
        "colab": {
          "base_uri": "https://localhost:8080/",
          "height": 86
        },
        "outputId": "b037eaf2-5299-410b-f3f8-9759deb30f6b"
      },
      "source": [
        "print(\"\\t\\t Min\\t 25%\\t Avg\\t 75%\\t Max\")\n",
        "print(\"\\nArticle\\t\\t {}\\t{}\\t{}\\t{}\\t{}\".format(np.percentile(len_articles,0),np.percentile(len_articles,25),np.percentile(len_articles,50),np.percentile(len_articles,75),np.percentile(len_articles,100)))\n",
        "print(\"Summary\\t\\t {}\\t{}\\t{}\\t{}\\t{}\".format(np.percentile(len_summaries,0),np.percentile(len_summaries,25),np.percentile(len_summaries,50),np.percentile(len_summaries,75),np.percentile(len_summaries,100)))"
      ],
      "execution_count": 79,
      "outputs": [
        {
          "output_type": "stream",
          "text": [
            "\t\t Min\t 25%\t Avg\t 75%\t Max\n",
            "\n",
            "Article\t\t 3.0\t719.0\t1233.0\t2121.0\t48273.0\n",
            "Summary\t\t 3.0\t99.0\t156.0\t271.0\t14563.0\n"
          ],
          "name": "stdout"
        }
      ]
    },
    {
      "cell_type": "code",
      "metadata": {
        "id": "gFBro9F21p-K",
        "colab_type": "code",
        "colab": {}
      },
      "source": [
        "MAX_LENGTH = 2500"
      ],
      "execution_count": 0,
      "outputs": []
    },
    {
      "cell_type": "code",
      "metadata": {
        "id": "CRQhoIHA1DHQ",
        "colab_type": "code",
        "colab": {}
      },
      "source": [
        "class EncoderRNN(nn.Module):\n",
        "    def __init__(self, input_size, hidden_size):\n",
        "        super(EncoderRNN, self).__init__()\n",
        "        self.hidden_size = hidden_size\n",
        "\n",
        "        self.embedding = nn.Embedding(input_size, hidden_size)\n",
        "        self.gru = nn.GRU(hidden_size, hidden_size)\n",
        "\n",
        "    def forward(self, input, hidden):\n",
        "        embedded = self.embedding(input).view(1, 1, -1)\n",
        "        output = embedded\n",
        "        output, hidden = self.gru(output, hidden)\n",
        "        return output, hidden\n",
        "\n",
        "    def initHidden(self):\n",
        "        return torch.zeros(1, 1, self.hidden_size, device=device)"
      ],
      "execution_count": 0,
      "outputs": []
    },
    {
      "cell_type": "code",
      "metadata": {
        "id": "Iu7j4_MZ1bw2",
        "colab_type": "code",
        "colab": {}
      },
      "source": [
        "class DecoderRNN(nn.Module):\n",
        "    def __init__(self, hidden_size, output_size):\n",
        "        super(DecoderRNN, self).__init__()\n",
        "        self.hidden_size = hidden_size\n",
        "\n",
        "        self.embedding = nn.Embedding(output_size, hidden_size)\n",
        "        self.gru = nn.GRU(hidden_size, hidden_size)\n",
        "        self.out = nn.Linear(hidden_size, output_size)\n",
        "        self.softmax = nn.LogSoftmax(dim=1)\n",
        "\n",
        "    def forward(self, input, hidden):\n",
        "        output = self.embedding(input).view(1, 1, -1)\n",
        "        output = F.relu(output)\n",
        "        output, hidden = self.gru(output, hidden)\n",
        "        output = self.softmax(self.out(output[0]))\n",
        "        return output, hidden\n",
        "\n",
        "    def initHidden(self):\n",
        "        return torch.zeros(1, 1, self.hidden_size, device=device)"
      ],
      "execution_count": 0,
      "outputs": []
    },
    {
      "cell_type": "code",
      "metadata": {
        "id": "91_T7mef1eoK",
        "colab_type": "code",
        "colab": {}
      },
      "source": [
        "class AttnDecoderRNN(nn.Module):\n",
        "    def __init__(self, hidden_size, output_size, dropout, max_length=MAX_LENGTH):\n",
        "        super(AttnDecoderRNN, self).__init__()\n",
        "        self.hidden_size = hidden_size\n",
        "        self.output_size = output_size\n",
        "        self.dropout = dropout\n",
        "        self.max_length = max_length\n",
        "\n",
        "        self.embedding = nn.Embedding(self.output_size, self.hidden_size)\n",
        "        self.attn = nn.Linear(self.hidden_size * 2, self.max_length)\n",
        "        self.attn_combine = nn.Linear(self.hidden_size * 2, self.hidden_size)\n",
        "        self.dropout = nn.Dropout(self.dropout)\n",
        "        self.gru = nn.GRU(self.hidden_size, self.hidden_size)\n",
        "        self.out = nn.Linear(self.hidden_size, self.output_size)\n",
        "\n",
        "    def forward(self, input, hidden, encoder_outputs):\n",
        "        embedded = self.embedding(input).view(1, 1, -1)\n",
        "        embedded = self.dropout(embedded)\n",
        "\n",
        "        attn_weights = F.softmax(\n",
        "            self.attn(torch.cat((embedded[0], hidden[0]), 1)), dim=1)\n",
        "        attn_applied = torch.bmm(attn_weights.unsqueeze(0),\n",
        "                                 encoder_outputs.unsqueeze(0))\n",
        "\n",
        "        output = torch.cat((embedded[0], attn_applied[0]), 1)\n",
        "        output = self.attn_combine(output).unsqueeze(0)\n",
        "\n",
        "        output = F.relu(output)\n",
        "        output, hidden = self.gru(output, hidden)\n",
        "\n",
        "        output = F.log_softmax(self.out(output[0]), dim=1)\n",
        "        return output, hidden, attn_weights\n",
        "\n",
        "    def initHidden(self):\n",
        "        return torch.zeros(1, 1, self.hidden_size, device=device)"
      ],
      "execution_count": 0,
      "outputs": []
    },
    {
      "cell_type": "code",
      "metadata": {
        "id": "42gunFLZ1wPy",
        "colab_type": "code",
        "colab": {}
      },
      "source": [
        "def indexesFromSentence(lang, sentence):\n",
        "    return [lang.word2index[word] for word in sentence.split(' ')]\n",
        "\n",
        "\n",
        "def tensorFromSentence(lang, sentence):\n",
        "    indexes = indexesFromSentence(lang, sentence)\n",
        "    indexes.append(EOS_token)\n",
        "    return torch.tensor(indexes, dtype=torch.long, device=device).view(-1, 1)\n",
        "\n",
        "\n",
        "def tensorsFromPair(pair):\n",
        "    input_tensor = tensorFromSentence(input_lang, pair[0])\n",
        "    target_tensor = tensorFromSentence(output_lang, pair[1])\n",
        "    return (input_tensor, target_tensor)"
      ],
      "execution_count": 0,
      "outputs": []
    },
    {
      "cell_type": "code",
      "metadata": {
        "id": "kB7Jet6J1ya2",
        "colab_type": "code",
        "colab": {}
      },
      "source": [
        "teacher_forcing_ratio = 0.5\n",
        "\n",
        "\n",
        "def train(input_tensor, target_tensor, encoder, decoder, encoder_optimizer, decoder_optimizer, criterion, max_length=MAX_LENGTH):\n",
        "    encoder_hidden = encoder.initHidden()\n",
        "\n",
        "    encoder_optimizer.zero_grad()\n",
        "    decoder_optimizer.zero_grad()\n",
        "\n",
        "    input_length = input_tensor.size(0)\n",
        "    target_length = target_tensor.size(0)\n",
        "\n",
        "    encoder_outputs = torch.zeros(max_length, encoder.hidden_size, device=device)\n",
        "\n",
        "    \n",
        "    loss = 0\n",
        "    \n",
        "\n",
        "    for ei in range(input_length):\n",
        "        encoder_output, encoder_hidden = encoder(\n",
        "            input_tensor[ei], encoder_hidden)\n",
        "             \n",
        "        if ei < max_length:\n",
        "          encoder_outputs[ei] = encoder_output[0, 0]\n",
        "\n",
        "      \n",
        "\n",
        "    decoder_input = torch.tensor([[SOS_token]], device=device)\n",
        "\n",
        "    decoder_hidden = encoder_hidden\n",
        "\n",
        "    use_teacher_forcing = True if random.random() < teacher_forcing_ratio else False\n",
        "\n",
        "    if use_teacher_forcing:\n",
        "        # Teacher forcing: Feed the target as the next input\n",
        "        for di in range(target_length):\n",
        "            decoder_output, decoder_hidden, decoder_attention = decoder(\n",
        "                decoder_input, decoder_hidden, encoder_outputs)\n",
        "            loss += criterion(decoder_output, target_tensor[di])\n",
        "            decoder_input = target_tensor[di]  # Teacher forcing\n",
        "\n",
        "    else:\n",
        "        # Without teacher forcing: use its own predictions as the next input\n",
        "        for di in range(target_length):\n",
        "            decoder_output, decoder_hidden, decoder_attention = decoder(\n",
        "                decoder_input, decoder_hidden, encoder_outputs)\n",
        "            topv, topi = decoder_output.topk(1)\n",
        "            decoder_input = topi.squeeze().detach()  # detach from history as input\n",
        "\n",
        "            loss += criterion(decoder_output, target_tensor[di])\n",
        "            if decoder_input.item() == EOS_token:\n",
        "                break\n",
        "\n",
        "    loss.backward()\n",
        "\n",
        "    encoder_optimizer.step()\n",
        "    decoder_optimizer.step()\n",
        "\n",
        "    return loss.item() / target_length"
      ],
      "execution_count": 0,
      "outputs": []
    },
    {
      "cell_type": "code",
      "metadata": {
        "id": "dY20w6FW13AH",
        "colab_type": "code",
        "colab": {}
      },
      "source": [
        "import time\n",
        "import math\n",
        "\n",
        "\n",
        "def asMinutes(s):\n",
        "    m = math.floor(s / 60)\n",
        "    s -= m * 60\n",
        "    return '%dm %ds' % (m, s)\n",
        "\n",
        "\n",
        "def timeSince(since, percent):\n",
        "    now = time.time()\n",
        "    s = now - since\n",
        "    es = s / (percent)\n",
        "    rs = es - s\n",
        "    return '%s (- %s)' % (asMinutes(s), asMinutes(rs))"
      ],
      "execution_count": 0,
      "outputs": []
    },
    {
      "cell_type": "code",
      "metadata": {
        "id": "PeQZSI-t18fi",
        "colab_type": "code",
        "colab": {}
      },
      "source": [
        "import matplotlib.pyplot as plt\n",
        "plt.switch_backend('agg')\n",
        "import matplotlib.ticker as ticker\n",
        "import numpy as np\n",
        "\n",
        "\n",
        "def showPlot(points):\n",
        "    plt.figure()\n",
        "    fig, ax = plt.subplots()\n",
        "    # this locator puts ticks at regular intervals\n",
        "    loc = ticker.MultipleLocator(base=0.2)\n",
        "    ax.yaxis.set_major_locator(loc)\n",
        "    plt.plot(points)"
      ],
      "execution_count": 0,
      "outputs": []
    },
    {
      "cell_type": "code",
      "metadata": {
        "id": "LXFDzY8Z15V9",
        "colab_type": "code",
        "colab": {}
      },
      "source": [
        "def trainIters(encoder, decoder, n_iters, print_every, plot_every, learning_rate):\n",
        "    start = time.time()\n",
        "    \n",
        "    print_loss = 0  # Reset every print_every\n",
        "    plot_loss = 0  # Reset every plot_every\n",
        "\n",
        "\n",
        "    encoder_optimizer = optim.Adam(encoder.parameters(), lr=learning_rate)\n",
        "    decoder_optimizer = optim.Adam(decoder.parameters(), lr=learning_rate)\n",
        "    training_pairs = [tensorsFromPair(random.choice(pairs))\n",
        "                      for i in range(n_iters)]\n",
        "    criterion = nn.NLLLoss()\n",
        "\n",
        "    for iter in range(1, n_iters + 1):\n",
        "        training_pair = training_pairs[iter - 1]\n",
        "        input_tensor = training_pair[0]\n",
        "        target_tensor = training_pair[1]\n",
        "\n",
        "        loss = train(input_tensor, target_tensor, encoder,\n",
        "                     decoder, encoder_optimizer, decoder_optimizer, criterion)\n",
        "        print_loss += loss\n",
        "        plot_loss += loss\n",
        "\n",
        "        if iter % print_every == 0:\n",
        "            print_loss_avg = print_loss / print_every\n",
        "            print_loss = 0\n",
        "            print('%s (%d %d%%) %.4f' % (timeSince(start, iter / n_iters),\n",
        "                                         iter, iter / n_iters * 100, print_loss_avg))\n",
        "\n",
        "        if iter % plot_every == 0:\n",
        "            plot_loss_avg = plot_loss / plot_every\n",
        "            plot_losses.append(plot_loss_avg)\n",
        "            plot_loss = 0"
      ],
      "execution_count": 0,
      "outputs": []
    },
    {
      "cell_type": "code",
      "metadata": {
        "id": "FK43dSMO1-ei",
        "colab_type": "code",
        "colab": {}
      },
      "source": [
        "def evaluate(encoder, decoder, sentence, max_length=MAX_LENGTH):\n",
        "    with torch.no_grad():\n",
        "        input_tensor = tensorFromSentence(input_lang, sentence)\n",
        "        input_length = input_tensor.size()[0]\n",
        "        encoder_hidden = encoder.initHidden()\n",
        "\n",
        "        encoder_outputs = torch.zeros(max_length, encoder.hidden_size, device=device)\n",
        "\n",
        "        for ei in range(input_length):\n",
        "            encoder_output, encoder_hidden = encoder(input_tensor[ei],\n",
        "                                                     encoder_hidden)\n",
        "            encoder_outputs[ei] += encoder_output[0, 0]\n",
        "\n",
        "        decoder_input = torch.tensor([[SOS_token]], device=device)  # SOS\n",
        "\n",
        "        decoder_hidden = encoder_hidden\n",
        "\n",
        "        decoded_words = []\n",
        "        decoder_attentions = torch.zeros(max_length, max_length)\n",
        "\n",
        "        for di in range(max_length):\n",
        "            decoder_output, decoder_hidden, decoder_attention = decoder(\n",
        "                decoder_input, decoder_hidden, encoder_outputs)\n",
        "            decoder_attentions[di] = decoder_attention.data\n",
        "            topv, topi = decoder_output.data.topk(1)\n",
        "            if topi.item() == EOS_token:\n",
        "                decoded_words.append('<EOS>')\n",
        "                break\n",
        "            else:\n",
        "                decoded_words.append(output_lang.index2word[topi.item()])\n",
        "\n",
        "            decoder_input = topi.squeeze().detach()\n",
        "\n",
        "        return decoded_words, decoder_attentions[:di + 1]"
      ],
      "execution_count": 0,
      "outputs": []
    },
    {
      "cell_type": "code",
      "metadata": {
        "id": "xKIZu2qd2BXl",
        "colab_type": "code",
        "colab": {}
      },
      "source": [
        "def evaluateRandomly(encoder, decoder, n=10):\n",
        "    for i in range(n):\n",
        "        pair = random.choice(pairs)\n",
        "        print('Article:', pair[0])\n",
        "        print('Reference summary:', pair[1])\n",
        "        output_words, attentions = evaluate(encoder, decoder, pair[0])\n",
        "        output_sentence = ' '.join(output_words)\n",
        "        print('Summary:', output_sentence)\n",
        "        print('')"
      ],
      "execution_count": 0,
      "outputs": []
    },
    {
      "cell_type": "code",
      "metadata": {
        "id": "cqdcC1TO2DTG",
        "colab_type": "code",
        "outputId": "a25c42be-b0fe-459b-d75b-6c0ffc6af5ea",
        "colab": {
          "base_uri": "https://localhost:8080/",
          "height": 191
        }
      },
      "source": [
        "hidden_size = 300\n",
        "learning_rate = 0.001      # Learning rates 0.0005, 0.001, 0.00146    https://medium.com/octavian-ai/which-optimizer-and-learning-rate-should-i-use-for-deep-learning-5acb418f9b2\n",
        "plot_losses = []\n",
        "plot_every = 50\n",
        "print_every =100\n",
        "n_iters = 1000\n",
        "dropout = 0.5\n",
        "\n",
        "encoder = EncoderRNN(input_lang.n_words, hidden_size).to(device)\n",
        "decoder = AttnDecoderRNN(hidden_size, output_lang.n_words, dropout).to(device)\n",
        "trainIters(encoder, decoder, n_iters, print_every,plot_every,learning_rate)"
      ],
      "execution_count": 91,
      "outputs": [
        {
          "output_type": "stream",
          "text": [
            "2m 56s (- 26m 28s) (100 10%) 5.8585\n",
            "5m 38s (- 22m 33s) (200 20%) 5.8826\n",
            "8m 18s (- 19m 23s) (300 30%) 6.1130\n",
            "10m 58s (- 16m 27s) (400 40%) 5.9328\n",
            "13m 33s (- 13m 33s) (500 50%) 5.9503\n",
            "16m 29s (- 10m 59s) (600 60%) 6.0300\n",
            "19m 4s (- 8m 10s) (700 70%) 6.1394\n",
            "21m 56s (- 5m 29s) (800 80%) 5.7022\n",
            "24m 49s (- 2m 45s) (900 90%) 5.8557\n",
            "27m 35s (- 0m 0s) (1000 100%) 5.7042\n"
          ],
          "name": "stdout"
        }
      ]
    },
    {
      "cell_type": "code",
      "metadata": {
        "id": "yPRvPRyS2O4L",
        "colab_type": "code",
        "outputId": "dcc62e91-f7af-49eb-9d83-5cfff06c87ad",
        "colab": {
          "base_uri": "https://localhost:8080/",
          "height": 282
        }
      },
      "source": [
        "# plotting the losses\n",
        "import matplotlib.pyplot as plt\n",
        "%matplotlib inline\n",
        "showPlot(plot_losses)"
      ],
      "execution_count": 92,
      "outputs": [
        {
          "output_type": "display_data",
          "data": {
            "text/plain": [
              "<Figure size 432x288 with 0 Axes>"
            ]
          },
          "metadata": {
            "tags": []
          }
        },
        {
          "output_type": "display_data",
          "data": {
            "image/png": "[encoded data removed]",
            "text/plain": [
              "<Figure size 432x288 with 1 Axes>"
            ]
          },
          "metadata": {
            "tags": [],
            "needs_background": "light"
          }
        }
      ]
    },
    {
      "cell_type": "code",
      "metadata": {
        "id": "5AqrOrALbIZM",
        "colab_type": "code",
        "colab": {}
      },
      "source": [
        "torch.save(encoder.state_dict(), './enc.w')\n",
        "torch.save(decoder.state_dict(), './dec.w')"
      ],
      "execution_count": 0,
      "outputs": []
    },
    {
      "cell_type": "code",
      "metadata": {
        "id": "YTPnl-_bAO6A",
        "colab_type": "code",
        "outputId": "c21b1f95-f1c3-4cb9-d026-c187cdf6b8bf",
        "colab": {
          "base_uri": "https://localhost:8080/",
          "height": 176
        }
      },
      "source": [
        "evaluateRandomly(encoder, decoder, n=2)"
      ],
      "execution_count": 94,
      "outputs": [
        {
          "output_type": "stream",
          "text": [
            "Article: simplified version widmark formula bac x formula r gender constant r females males order calculate bac using widmark formula need count many drinks consumed given period precise possible number drinks counted based standard drink size alcohol content rather number glasses bottles etc consumed volume content drinks vary widely standard drink size varies country country drink drink united states standard drink size proof version liqueur gin whiskey approximately ounces forty percent alcohol standard drink size beer five percent volume alcohol twelve ounces standard drink size wine twelve percent volume alcohol five ounces united states standard drink contains approximately fourteen grams alcohol number standard drinks consumed multiply number derive alcohol dose grams give alcohol dose amount alcohol consumed also find alcohol dose using formula x x grams alcohol consumedif area different alcohol content standard drink need multiply number standard drinks consumed alcohol content grams gender constant females males know body weight pounds grams use one following formulas body weight pounds body weight gramsbody weight pounds x body weight gramsa quick internet search reveal numerous online calculators converting pounds grams step give raw number based alcohol content body taking raw number step multiplying give bac percentage drinking period time need account elapsed time amount alcohol body already metabolized time calculate bac use following formula bac percentage imagine pound woman consumed four ounce drinks proof liqueur five hour period four ounce drinks proof liqueur equivalent four standard drinks united states multiply number standard drinks example find alcohol dose grams alcohol pounds equivalent grams multiplying gender constant example equals approximately less exact calculation round number example gives number number reflects approximate bac percentage accounting elapsed time example first multiply number elapsed time hours subtract number approximate bac percentage means approximate bac example end five hour period\n",
            "Reference summary: find formula count number drinks find alcohol dose take body weight grams multiply gender constant divide alcohol consumed grams multiply raw number account elapsed time understand example count number drinks find alcohol dose multiply body weight grams multiply gender constant divide alcohol consumed grams multiply raw number account elapsed time\n",
            "Summary: find make sure make sure <EOS>\n",
            "\n",
            "Article: failure brakes steering linkages power take connections cause injury death seconds able maintain equipment inspected periodically mechanic might save life least likely prevent costly breakdowns make sure individuals operating machine know engage disengage moving parts keep guards safety features place use operate dangerous farm machinery taking medications may impair allergy cold medicine prescription pain relievers often warning label warning reason let individuals ride fenders drawbars attachments meant riding sudden fall could result someone run person falling cutting attachment running pto shaft moving mechanical part nothing worse standing someone operating machine close proximity know make sure operator makes eye contact verify indeed noticed possible move area operator see either mirrors moving blind spot possible stay away safe go near always walk around machine get side work area pto shaft turn everything first ensure tractor gear working particular area also aware around turn machine start moving even operation see special children rules safety rules children around machinery easily get caught even sucked machine even knew happened survivability accidents extremely rare people survive event often die traumatic shock shortly always keep shovels pant legs sleeves collars loose hair etc away running auger pto shaft moving machinery part wear proper clothing working around machinery working animals never operate machinery work farm animals high heels loafers safety boots tight regular fit work type blue jeans shirt jacket well gloves hat best working farm overalls coveralls also ideal loader bucket suddenly come crashing thing occurs likely happen one hydraulic rams worn point may fail soon hydraulic hose improperly connected never ever let child climb tractor expect child know anything pushes pulls cause tractor move start operate necessary remove keys ignition machine operation may even want consider locking doors well imperative could get caught auger shaft people lost legs arms feet thing sometimes die shock alone farm machinery conduct electricity comes contact power lines resulting operator sustaining serious fatal injuries electrocution always ask line\n",
            "Reference summary: maintain equipment good working condition train equipment operators general operating procedures machine specific safety items individual pieces equipment avoid using equipment poor working conditions low light low visibility tired operate equipment safely keep people actively assisting operation equipment well away activity operator see whether tractor swather windrower combine never climb reach running spinning pto shaft always make sure tractor machine turned climb fix look something check machine turn neutral park position operating machinery always keep eye things beside behind front wear loose clothing wear hair loose working around moving mechanical parts never get confident hydraulics always work keep place fail farm machinery toy never step area grain fed auger always watch power lines especially transporting augers tall equipment\n",
            "Summary: find make sure make sure <EOS>\n",
            "\n"
          ],
          "name": "stdout"
        }
      ]
    }
  ]
}